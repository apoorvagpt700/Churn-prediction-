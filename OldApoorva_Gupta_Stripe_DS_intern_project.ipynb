{
 "cells": [
  {
   "cell_type": "markdown",
   "id": "01d1bac0",
   "metadata": {},
   "source": [
    "# Stripe merchant churn "
   ]
  },
  {
   "cell_type": "markdown",
   "id": "067e0e37",
   "metadata": {},
   "source": [
    "**Contents:**\n",
    "<ol>\n",
    "<li>Data Preprocessing</li>\n",
    " <li>Creating new variables</li>\n",
    "    <li>Merchant segmentation</li>\n",
    "    <li>Merhant churn analysis</li>\n",
    "    <li>Predicting merchant churn</li>\n",
    "<ol>"
   ]
  },
  {
   "cell_type": "markdown",
   "id": "1953a839",
   "metadata": {},
   "source": [
    "### 1.Data Preprocessing"
   ]
  },
  {
   "cell_type": "code",
   "execution_count": 1,
   "id": "b4639443",
   "metadata": {},
   "outputs": [],
   "source": [
    "#importing required packages\n",
    "import pandas as pd\n",
    "import numpy as np\n",
    "import matplotlib.pyplot as plt\n",
    "import seaborn as sns\n",
    "from scipy import stats\n",
    "import copy\n",
    "import datetime\n",
    "import plotly.express as px\n",
    "sns.set(color_codes=True)\n",
    "from dateutil import parser\n",
    "from sklearn.preprocessing import StandardScaler\n",
    "from sklearn.cluster import KMeans\n",
    "from sklearn import metrics\n",
    "from sklearn.model_selection import train_test_split\n",
    "from sklearn import preprocessing\n",
    "from sklearn.metrics import confusion_matrix\n",
    "from sklearn.neighbors import KNeighborsClassifier\n",
    "from sklearn.linear_model import LogisticRegression\n",
    "from sklearn.model_selection import train_test_split\n",
    "\n",
    "from sklearn.ensemble import RandomForestClassifier, GradientBoostingClassifier\n",
    "from scipy.spatial.distance import cdist\n",
    "\n",
    "%matplotlib inline\n",
    "plt.rcParams['figure.figsize'] = [10, 5]"
   ]
  },
  {
   "cell_type": "code",
   "execution_count": 331,
   "id": "2e7f4a35",
   "metadata": {},
   "outputs": [
    {
     "data": {
      "text/html": [
       "<div>\n",
       "<style scoped>\n",
       "    .dataframe tbody tr th:only-of-type {\n",
       "        vertical-align: middle;\n",
       "    }\n",
       "\n",
       "    .dataframe tbody tr th {\n",
       "        vertical-align: top;\n",
       "    }\n",
       "\n",
       "    .dataframe thead th {\n",
       "        text-align: right;\n",
       "    }\n",
       "</style>\n",
       "<table border=\"1\" class=\"dataframe\">\n",
       "  <thead>\n",
       "    <tr style=\"text-align: right;\">\n",
       "      <th></th>\n",
       "      <th>Unnamed: 0</th>\n",
       "      <th>merchant</th>\n",
       "      <th>time</th>\n",
       "      <th>amount_usd_in_cents</th>\n",
       "    </tr>\n",
       "  </thead>\n",
       "  <tbody>\n",
       "    <tr>\n",
       "      <th>0</th>\n",
       "      <td>1</td>\n",
       "      <td>faa029c6b0</td>\n",
       "      <td>2034-06-17 23:34:14</td>\n",
       "      <td>6349</td>\n",
       "    </tr>\n",
       "    <tr>\n",
       "      <th>1</th>\n",
       "      <td>2</td>\n",
       "      <td>ed7a7d91aa</td>\n",
       "      <td>2034-12-27 00:40:38</td>\n",
       "      <td>3854</td>\n",
       "    </tr>\n",
       "    <tr>\n",
       "      <th>2</th>\n",
       "      <td>3</td>\n",
       "      <td>5608f200cf</td>\n",
       "      <td>2034-04-30 01:29:42</td>\n",
       "      <td>789</td>\n",
       "    </tr>\n",
       "    <tr>\n",
       "      <th>3</th>\n",
       "      <td>4</td>\n",
       "      <td>15b1a0d61e</td>\n",
       "      <td>2034-09-16 01:06:23</td>\n",
       "      <td>4452</td>\n",
       "    </tr>\n",
       "    <tr>\n",
       "      <th>4</th>\n",
       "      <td>5</td>\n",
       "      <td>4770051790</td>\n",
       "      <td>2034-07-22 16:21:42</td>\n",
       "      <td>20203</td>\n",
       "    </tr>\n",
       "  </tbody>\n",
       "</table>\n",
       "</div>"
      ],
      "text/plain": [
       "   Unnamed: 0    merchant                 time  amount_usd_in_cents\n",
       "0           1  faa029c6b0  2034-06-17 23:34:14                 6349\n",
       "1           2  ed7a7d91aa  2034-12-27 00:40:38                 3854\n",
       "2           3  5608f200cf  2034-04-30 01:29:42                  789\n",
       "3           4  15b1a0d61e  2034-09-16 01:06:23                 4452\n",
       "4           5  4770051790  2034-07-22 16:21:42                20203"
      ]
     },
     "execution_count": 331,
     "metadata": {},
     "output_type": "execute_result"
    }
   ],
   "source": [
    "#Loading the dataset\n",
    "data = pd.read_csv('C:/Users/apoor/Desktop/Apoorva/Stripe/takehome_ds_written.csv', encoding = \"ISO-8859-1\")\n",
    "data.head()"
   ]
  },
  {
   "cell_type": "code",
   "execution_count": 332,
   "id": "ad6b378b",
   "metadata": {
    "scrolled": true
   },
   "outputs": [
    {
     "name": "stdout",
     "output_type": "stream",
     "text": [
      "<class 'pandas.core.frame.DataFrame'>\n",
      "RangeIndex: 1513719 entries, 0 to 1513718\n",
      "Data columns (total 4 columns):\n",
      " #   Column               Non-Null Count    Dtype \n",
      "---  ------               --------------    ----- \n",
      " 0   Unnamed: 0           1513719 non-null  int64 \n",
      " 1   merchant             1513719 non-null  object\n",
      " 2   time                 1513719 non-null  object\n",
      " 3   amount_usd_in_cents  1513719 non-null  int64 \n",
      "dtypes: int64(2), object(2)\n",
      "memory usage: 46.2+ MB\n"
     ]
    }
   ],
   "source": [
    "data.info()"
   ]
  },
  {
   "cell_type": "markdown",
   "id": "f464c8e5",
   "metadata": {},
   "source": [
    "There are no null values in the dataset. Hence, we do not require null treatment in this dataset."
   ]
  },
  {
   "cell_type": "markdown",
   "id": "e38a0a86",
   "metadata": {},
   "source": [
    "Since, we have transaction amount in cents, we will convert amount from cents to dollars and we will also create another column called date, as we have multiple transactions in single day."
   ]
  },
  {
   "cell_type": "code",
   "execution_count": 333,
   "id": "ea69111c",
   "metadata": {
    "scrolled": true
   },
   "outputs": [
    {
     "data": {
      "text/html": [
       "<div>\n",
       "<style scoped>\n",
       "    .dataframe tbody tr th:only-of-type {\n",
       "        vertical-align: middle;\n",
       "    }\n",
       "\n",
       "    .dataframe tbody tr th {\n",
       "        vertical-align: top;\n",
       "    }\n",
       "\n",
       "    .dataframe thead th {\n",
       "        text-align: right;\n",
       "    }\n",
       "</style>\n",
       "<table border=\"1\" class=\"dataframe\">\n",
       "  <thead>\n",
       "    <tr style=\"text-align: right;\">\n",
       "      <th></th>\n",
       "      <th>Unnamed: 0</th>\n",
       "      <th>merchant</th>\n",
       "      <th>time</th>\n",
       "      <th>amount_usd_in_cents</th>\n",
       "      <th>usd</th>\n",
       "      <th>date</th>\n",
       "    </tr>\n",
       "  </thead>\n",
       "  <tbody>\n",
       "    <tr>\n",
       "      <th>0</th>\n",
       "      <td>1</td>\n",
       "      <td>faa029c6b0</td>\n",
       "      <td>2034-06-17 23:34:14</td>\n",
       "      <td>6349</td>\n",
       "      <td>63.49</td>\n",
       "      <td>2034-06-17</td>\n",
       "    </tr>\n",
       "    <tr>\n",
       "      <th>1</th>\n",
       "      <td>2</td>\n",
       "      <td>ed7a7d91aa</td>\n",
       "      <td>2034-12-27 00:40:38</td>\n",
       "      <td>3854</td>\n",
       "      <td>38.54</td>\n",
       "      <td>2034-12-27</td>\n",
       "    </tr>\n",
       "    <tr>\n",
       "      <th>2</th>\n",
       "      <td>3</td>\n",
       "      <td>5608f200cf</td>\n",
       "      <td>2034-04-30 01:29:42</td>\n",
       "      <td>789</td>\n",
       "      <td>7.89</td>\n",
       "      <td>2034-04-30</td>\n",
       "    </tr>\n",
       "    <tr>\n",
       "      <th>3</th>\n",
       "      <td>4</td>\n",
       "      <td>15b1a0d61e</td>\n",
       "      <td>2034-09-16 01:06:23</td>\n",
       "      <td>4452</td>\n",
       "      <td>44.52</td>\n",
       "      <td>2034-09-16</td>\n",
       "    </tr>\n",
       "    <tr>\n",
       "      <th>4</th>\n",
       "      <td>5</td>\n",
       "      <td>4770051790</td>\n",
       "      <td>2034-07-22 16:21:42</td>\n",
       "      <td>20203</td>\n",
       "      <td>202.03</td>\n",
       "      <td>2034-07-22</td>\n",
       "    </tr>\n",
       "    <tr>\n",
       "      <th>...</th>\n",
       "      <td>...</td>\n",
       "      <td>...</td>\n",
       "      <td>...</td>\n",
       "      <td>...</td>\n",
       "      <td>...</td>\n",
       "      <td>...</td>\n",
       "    </tr>\n",
       "    <tr>\n",
       "      <th>1513714</th>\n",
       "      <td>1513715</td>\n",
       "      <td>72d37bedbf</td>\n",
       "      <td>2034-06-21 13:47:51</td>\n",
       "      <td>5274</td>\n",
       "      <td>52.74</td>\n",
       "      <td>2034-06-21</td>\n",
       "    </tr>\n",
       "    <tr>\n",
       "      <th>1513715</th>\n",
       "      <td>1513716</td>\n",
       "      <td>5608f200cf</td>\n",
       "      <td>2034-04-20 02:23:59</td>\n",
       "      <td>754</td>\n",
       "      <td>7.54</td>\n",
       "      <td>2034-04-20</td>\n",
       "    </tr>\n",
       "    <tr>\n",
       "      <th>1513716</th>\n",
       "      <td>1513717</td>\n",
       "      <td>fcbd1dae68</td>\n",
       "      <td>2033-09-19 14:02:33</td>\n",
       "      <td>13203</td>\n",
       "      <td>132.03</td>\n",
       "      <td>2033-09-19</td>\n",
       "    </tr>\n",
       "    <tr>\n",
       "      <th>1513717</th>\n",
       "      <td>1513718</td>\n",
       "      <td>9843e52410</td>\n",
       "      <td>2034-12-28 20:07:59</td>\n",
       "      <td>4845</td>\n",
       "      <td>48.45</td>\n",
       "      <td>2034-12-28</td>\n",
       "    </tr>\n",
       "    <tr>\n",
       "      <th>1513718</th>\n",
       "      <td>1513719</td>\n",
       "      <td>32acddd6cc</td>\n",
       "      <td>2034-08-23 09:07:07</td>\n",
       "      <td>3862</td>\n",
       "      <td>38.62</td>\n",
       "      <td>2034-08-23</td>\n",
       "    </tr>\n",
       "  </tbody>\n",
       "</table>\n",
       "<p>1513719 rows × 6 columns</p>\n",
       "</div>"
      ],
      "text/plain": [
       "         Unnamed: 0    merchant                 time  amount_usd_in_cents  \\\n",
       "0                 1  faa029c6b0  2034-06-17 23:34:14                 6349   \n",
       "1                 2  ed7a7d91aa  2034-12-27 00:40:38                 3854   \n",
       "2                 3  5608f200cf  2034-04-30 01:29:42                  789   \n",
       "3                 4  15b1a0d61e  2034-09-16 01:06:23                 4452   \n",
       "4                 5  4770051790  2034-07-22 16:21:42                20203   \n",
       "...             ...         ...                  ...                  ...   \n",
       "1513714     1513715  72d37bedbf  2034-06-21 13:47:51                 5274   \n",
       "1513715     1513716  5608f200cf  2034-04-20 02:23:59                  754   \n",
       "1513716     1513717  fcbd1dae68  2033-09-19 14:02:33                13203   \n",
       "1513717     1513718  9843e52410  2034-12-28 20:07:59                 4845   \n",
       "1513718     1513719  32acddd6cc  2034-08-23 09:07:07                 3862   \n",
       "\n",
       "            usd        date  \n",
       "0         63.49  2034-06-17  \n",
       "1         38.54  2034-12-27  \n",
       "2          7.89  2034-04-30  \n",
       "3         44.52  2034-09-16  \n",
       "4        202.03  2034-07-22  \n",
       "...         ...         ...  \n",
       "1513714   52.74  2034-06-21  \n",
       "1513715    7.54  2034-04-20  \n",
       "1513716  132.03  2033-09-19  \n",
       "1513717   48.45  2034-12-28  \n",
       "1513718   38.62  2034-08-23  \n",
       "\n",
       "[1513719 rows x 6 columns]"
      ]
     },
     "execution_count": 333,
     "metadata": {},
     "output_type": "execute_result"
    }
   ],
   "source": [
    "#adding new columns-usd and date\n",
    "data['usd']=data['amount_usd_in_cents']/100\n",
    "data['date']=data['time'].str[:10]\n",
    "data"
   ]
  },
  {
   "cell_type": "code",
   "execution_count": 334,
   "id": "93742e00",
   "metadata": {},
   "outputs": [
    {
     "data": {
      "text/html": [
       "<div>\n",
       "<style scoped>\n",
       "    .dataframe tbody tr th:only-of-type {\n",
       "        vertical-align: middle;\n",
       "    }\n",
       "\n",
       "    .dataframe tbody tr th {\n",
       "        vertical-align: top;\n",
       "    }\n",
       "\n",
       "    .dataframe thead th {\n",
       "        text-align: right;\n",
       "    }\n",
       "</style>\n",
       "<table border=\"1\" class=\"dataframe\">\n",
       "  <thead>\n",
       "    <tr style=\"text-align: right;\">\n",
       "      <th></th>\n",
       "      <th>Unnamed: 0</th>\n",
       "      <th>merchant</th>\n",
       "      <th>time</th>\n",
       "      <th>amount_usd_in_cents</th>\n",
       "      <th>usd</th>\n",
       "      <th>date</th>\n",
       "    </tr>\n",
       "  </thead>\n",
       "  <tbody>\n",
       "  </tbody>\n",
       "</table>\n",
       "</div>"
      ],
      "text/plain": [
       "Empty DataFrame\n",
       "Columns: [Unnamed: 0, merchant, time, amount_usd_in_cents, usd, date]\n",
       "Index: []"
      ]
     },
     "execution_count": 334,
     "metadata": {},
     "output_type": "execute_result"
    }
   ],
   "source": [
    "#checking any negative transaction\n",
    "data.loc[data['usd'] <= 0]"
   ]
  },
  {
   "cell_type": "markdown",
   "id": "9de0b935",
   "metadata": {},
   "source": [
    "We do not have any negative transaction amount in this dataset"
   ]
  },
  {
   "cell_type": "markdown",
   "id": "54bfc220",
   "metadata": {},
   "source": [
    "### 2.Creating new variables"
   ]
  },
  {
   "cell_type": "markdown",
   "id": "6aa6ac24",
   "metadata": {},
   "source": [
    "To create a new variable- Monetary: How much money does a customer spend?"
   ]
  },
  {
   "cell_type": "code",
   "execution_count": 335,
   "id": "477361ae",
   "metadata": {
    "scrolled": true
   },
   "outputs": [
    {
     "data": {
      "text/html": [
       "<div>\n",
       "<style scoped>\n",
       "    .dataframe tbody tr th:only-of-type {\n",
       "        vertical-align: middle;\n",
       "    }\n",
       "\n",
       "    .dataframe tbody tr th {\n",
       "        vertical-align: top;\n",
       "    }\n",
       "\n",
       "    .dataframe thead th {\n",
       "        text-align: right;\n",
       "    }\n",
       "</style>\n",
       "<table border=\"1\" class=\"dataframe\">\n",
       "  <thead>\n",
       "    <tr style=\"text-align: right;\">\n",
       "      <th></th>\n",
       "      <th>merchant</th>\n",
       "      <th>Monetory</th>\n",
       "    </tr>\n",
       "  </thead>\n",
       "  <tbody>\n",
       "    <tr>\n",
       "      <th>0</th>\n",
       "      <td>0002b63b92</td>\n",
       "      <td>33.79</td>\n",
       "    </tr>\n",
       "    <tr>\n",
       "      <th>1</th>\n",
       "      <td>0002d07bba</td>\n",
       "      <td>892.78</td>\n",
       "    </tr>\n",
       "    <tr>\n",
       "      <th>2</th>\n",
       "      <td>00057d4302</td>\n",
       "      <td>295.21</td>\n",
       "    </tr>\n",
       "    <tr>\n",
       "      <th>3</th>\n",
       "      <td>000bcff341</td>\n",
       "      <td>78.26</td>\n",
       "    </tr>\n",
       "    <tr>\n",
       "      <th>4</th>\n",
       "      <td>000ddbf0ca</td>\n",
       "      <td>102.99</td>\n",
       "    </tr>\n",
       "  </tbody>\n",
       "</table>\n",
       "</div>"
      ],
      "text/plain": [
       "     merchant  Monetory\n",
       "0  0002b63b92     33.79\n",
       "1  0002d07bba    892.78\n",
       "2  00057d4302    295.21\n",
       "3  000bcff341     78.26\n",
       "4  000ddbf0ca    102.99"
      ]
     },
     "execution_count": 335,
     "metadata": {},
     "output_type": "execute_result"
    }
   ],
   "source": [
    "#Creating df for Monetary value of customers\n",
    "MonDf = pd.DataFrame(data.groupby(['merchant'],as_index = False)['usd'].sum())\n",
    "MonDf.columns = ['merchant', 'Monetory']\n",
    "MonDf.head()"
   ]
  },
  {
   "cell_type": "markdown",
   "id": "40a9747b",
   "metadata": {},
   "source": [
    "To create a new variable- Recency: How recently the customer last purchased?"
   ]
  },
  {
   "cell_type": "code",
   "execution_count": 336,
   "id": "1dc2e401",
   "metadata": {},
   "outputs": [
    {
     "data": {
      "text/html": [
       "<div>\n",
       "<style scoped>\n",
       "    .dataframe tbody tr th:only-of-type {\n",
       "        vertical-align: middle;\n",
       "    }\n",
       "\n",
       "    .dataframe tbody tr th {\n",
       "        vertical-align: top;\n",
       "    }\n",
       "\n",
       "    .dataframe thead th {\n",
       "        text-align: right;\n",
       "    }\n",
       "</style>\n",
       "<table border=\"1\" class=\"dataframe\">\n",
       "  <thead>\n",
       "    <tr style=\"text-align: right;\">\n",
       "      <th></th>\n",
       "      <th>merchant</th>\n",
       "      <th>LastTxnDate</th>\n",
       "      <th>Recency</th>\n",
       "    </tr>\n",
       "  </thead>\n",
       "  <tbody>\n",
       "    <tr>\n",
       "      <th>0</th>\n",
       "      <td>0002b63b92</td>\n",
       "      <td>2033-05-16</td>\n",
       "      <td>594</td>\n",
       "    </tr>\n",
       "    <tr>\n",
       "      <th>1</th>\n",
       "      <td>0002d07bba</td>\n",
       "      <td>2034-12-15</td>\n",
       "      <td>16</td>\n",
       "    </tr>\n",
       "    <tr>\n",
       "      <th>2</th>\n",
       "      <td>00057d4302</td>\n",
       "      <td>2033-08-04</td>\n",
       "      <td>514</td>\n",
       "    </tr>\n",
       "    <tr>\n",
       "      <th>3</th>\n",
       "      <td>000bcff341</td>\n",
       "      <td>2033-08-09</td>\n",
       "      <td>509</td>\n",
       "    </tr>\n",
       "    <tr>\n",
       "      <th>4</th>\n",
       "      <td>000ddbf0ca</td>\n",
       "      <td>2033-06-02</td>\n",
       "      <td>577</td>\n",
       "    </tr>\n",
       "  </tbody>\n",
       "</table>\n",
       "</div>"
      ],
      "text/plain": [
       "     merchant LastTxnDate  Recency\n",
       "0  0002b63b92  2033-05-16      594\n",
       "1  0002d07bba  2034-12-15       16\n",
       "2  00057d4302  2033-08-04      514\n",
       "3  000bcff341  2033-08-09      509\n",
       "4  000ddbf0ca  2033-06-02      577"
      ]
     },
     "execution_count": 336,
     "metadata": {},
     "output_type": "execute_result"
    }
   ],
   "source": [
    "df_recency = data.groupby(by='merchant', as_index=False)['date'].max()\n",
    "df_recency.columns = ['merchant', 'LastTxnDate']\n",
    "df_recency[\"LastTxnDate\"] = pd.to_datetime(df_recency[\"LastTxnDate\"])\n",
    "recent_date = df_recency['LastTxnDate'].max()\n",
    "df_recency['Recency'] = df_recency['LastTxnDate'].apply(lambda x: (recent_date - x).days)\n",
    "df_recency.head()"
   ]
  },
  {
   "cell_type": "markdown",
   "id": "449b79ec",
   "metadata": {},
   "source": [
    "To create a new variable- Frequency: How often does a customer purchase?"
   ]
  },
  {
   "cell_type": "code",
   "execution_count": 338,
   "id": "bfaca359",
   "metadata": {},
   "outputs": [
    {
     "data": {
      "text/html": [
       "<div>\n",
       "<style scoped>\n",
       "    .dataframe tbody tr th:only-of-type {\n",
       "        vertical-align: middle;\n",
       "    }\n",
       "\n",
       "    .dataframe tbody tr th {\n",
       "        vertical-align: top;\n",
       "    }\n",
       "\n",
       "    .dataframe thead th {\n",
       "        text-align: right;\n",
       "    }\n",
       "</style>\n",
       "<table border=\"1\" class=\"dataframe\">\n",
       "  <thead>\n",
       "    <tr style=\"text-align: right;\">\n",
       "      <th></th>\n",
       "      <th>merchant</th>\n",
       "      <th>Frequency</th>\n",
       "    </tr>\n",
       "  </thead>\n",
       "  <tbody>\n",
       "    <tr>\n",
       "      <th>0</th>\n",
       "      <td>0002b63b92</td>\n",
       "      <td>1</td>\n",
       "    </tr>\n",
       "    <tr>\n",
       "      <th>1</th>\n",
       "      <td>0002d07bba</td>\n",
       "      <td>4</td>\n",
       "    </tr>\n",
       "    <tr>\n",
       "      <th>2</th>\n",
       "      <td>00057d4302</td>\n",
       "      <td>2</td>\n",
       "    </tr>\n",
       "    <tr>\n",
       "      <th>3</th>\n",
       "      <td>000bcff341</td>\n",
       "      <td>1</td>\n",
       "    </tr>\n",
       "    <tr>\n",
       "      <th>4</th>\n",
       "      <td>000ddbf0ca</td>\n",
       "      <td>1</td>\n",
       "    </tr>\n",
       "  </tbody>\n",
       "</table>\n",
       "</div>"
      ],
      "text/plain": [
       "     merchant  Frequency\n",
       "0  0002b63b92          1\n",
       "1  0002d07bba          4\n",
       "2  00057d4302          2\n",
       "3  000bcff341          1\n",
       "4  000ddbf0ca          1"
      ]
     },
     "execution_count": 338,
     "metadata": {},
     "output_type": "execute_result"
    }
   ],
   "source": [
    "frequency_df = data.drop_duplicates().groupby(by=['merchant'], as_index=False)['date'].nunique()\n",
    "frequency_df.columns = ['merchant', 'Frequency']\n",
    "frequency_df.head()"
   ]
  },
  {
   "cell_type": "markdown",
   "id": "83b70c85",
   "metadata": {},
   "source": [
    "Now combine all 3 calculated metrics in single dataframe"
   ]
  },
  {
   "cell_type": "code",
   "execution_count": 339,
   "id": "1eaffe33",
   "metadata": {
    "scrolled": true
   },
   "outputs": [
    {
     "data": {
      "text/html": [
       "<div>\n",
       "<style scoped>\n",
       "    .dataframe tbody tr th:only-of-type {\n",
       "        vertical-align: middle;\n",
       "    }\n",
       "\n",
       "    .dataframe tbody tr th {\n",
       "        vertical-align: top;\n",
       "    }\n",
       "\n",
       "    .dataframe thead th {\n",
       "        text-align: right;\n",
       "    }\n",
       "</style>\n",
       "<table border=\"1\" class=\"dataframe\">\n",
       "  <thead>\n",
       "    <tr style=\"text-align: right;\">\n",
       "      <th></th>\n",
       "      <th>merchant</th>\n",
       "      <th>Recency</th>\n",
       "      <th>Frequency</th>\n",
       "      <th>Monetory</th>\n",
       "    </tr>\n",
       "  </thead>\n",
       "  <tbody>\n",
       "    <tr>\n",
       "      <th>0</th>\n",
       "      <td>0002b63b92</td>\n",
       "      <td>594</td>\n",
       "      <td>1</td>\n",
       "      <td>33.79</td>\n",
       "    </tr>\n",
       "    <tr>\n",
       "      <th>1</th>\n",
       "      <td>0002d07bba</td>\n",
       "      <td>16</td>\n",
       "      <td>4</td>\n",
       "      <td>892.78</td>\n",
       "    </tr>\n",
       "    <tr>\n",
       "      <th>2</th>\n",
       "      <td>00057d4302</td>\n",
       "      <td>514</td>\n",
       "      <td>2</td>\n",
       "      <td>295.21</td>\n",
       "    </tr>\n",
       "    <tr>\n",
       "      <th>3</th>\n",
       "      <td>000bcff341</td>\n",
       "      <td>509</td>\n",
       "      <td>1</td>\n",
       "      <td>78.26</td>\n",
       "    </tr>\n",
       "    <tr>\n",
       "      <th>4</th>\n",
       "      <td>000ddbf0ca</td>\n",
       "      <td>577</td>\n",
       "      <td>1</td>\n",
       "      <td>102.99</td>\n",
       "    </tr>\n",
       "  </tbody>\n",
       "</table>\n",
       "</div>"
      ],
      "text/plain": [
       "     merchant  Recency  Frequency  Monetory\n",
       "0  0002b63b92      594          1     33.79\n",
       "1  0002d07bba       16          4    892.78\n",
       "2  00057d4302      514          2    295.21\n",
       "3  000bcff341      509          1     78.26\n",
       "4  000ddbf0ca      577          1    102.99"
      ]
     },
     "execution_count": 339,
     "metadata": {},
     "output_type": "execute_result"
    }
   ],
   "source": [
    "rf_df = df_recency.merge(frequency_df, on='merchant')\n",
    "rfm_df = rf_df.merge(MonDf, on='merchant').drop(columns='LastTxnDate')\n",
    "rfm_df.head()"
   ]
  },
  {
   "cell_type": "markdown",
   "id": "69233a9a",
   "metadata": {},
   "source": [
    "Outlier detection in all 3 calculated metrics"
   ]
  },
  {
   "cell_type": "code",
   "execution_count": 340,
   "id": "54192b76",
   "metadata": {
    "scrolled": true
   },
   "outputs": [
    {
     "data": {
      "image/png": "[encoded data removed]",
      "text/plain": [
       "<Figure size 936x288 with 3 Axes>"
      ]
     },
     "metadata": {
      "needs_background": "light"
     },
     "output_type": "display_data"
    }
   ],
   "source": [
    "#Checking distribution - Boxplot\n",
    "plt.figure(figsize=(13, 4))\n",
    "plt.subplot(1,3,1)\n",
    "sns.boxplot(y = rfm_df['Recency'])\n",
    "plt.subplot(1,3,2)\n",
    "sns.boxplot(y = rfm_df['Frequency'])\n",
    "plt.subplot(1,3,3)\n",
    "sns.boxplot(y = rfm_df['Monetory'])\n",
    "plt.tight_layout()\n",
    "plt.show()"
   ]
  },
  {
   "cell_type": "markdown",
   "id": "6dab902f",
   "metadata": {},
   "source": [
    "The outliers are present in Recency where recency>500"
   ]
  },
  {
   "cell_type": "code",
   "execution_count": 341,
   "id": "f8e9d8e2",
   "metadata": {
    "scrolled": false
   },
   "outputs": [
    {
     "data": {
      "text/html": [
       "<div>\n",
       "<style scoped>\n",
       "    .dataframe tbody tr th:only-of-type {\n",
       "        vertical-align: middle;\n",
       "    }\n",
       "\n",
       "    .dataframe tbody tr th {\n",
       "        vertical-align: top;\n",
       "    }\n",
       "\n",
       "    .dataframe thead th {\n",
       "        text-align: right;\n",
       "    }\n",
       "</style>\n",
       "<table border=\"1\" class=\"dataframe\">\n",
       "  <thead>\n",
       "    <tr style=\"text-align: right;\">\n",
       "      <th></th>\n",
       "      <th>merchant</th>\n",
       "      <th>Recency</th>\n",
       "      <th>Frequency</th>\n",
       "      <th>Monetory</th>\n",
       "    </tr>\n",
       "  </thead>\n",
       "  <tbody>\n",
       "    <tr>\n",
       "      <th>0</th>\n",
       "      <td>0002b63b92</td>\n",
       "      <td>594</td>\n",
       "      <td>1</td>\n",
       "      <td>33.79</td>\n",
       "    </tr>\n",
       "    <tr>\n",
       "      <th>2</th>\n",
       "      <td>00057d4302</td>\n",
       "      <td>514</td>\n",
       "      <td>2</td>\n",
       "      <td>295.21</td>\n",
       "    </tr>\n",
       "    <tr>\n",
       "      <th>3</th>\n",
       "      <td>000bcff341</td>\n",
       "      <td>509</td>\n",
       "      <td>1</td>\n",
       "      <td>78.26</td>\n",
       "    </tr>\n",
       "    <tr>\n",
       "      <th>4</th>\n",
       "      <td>000ddbf0ca</td>\n",
       "      <td>577</td>\n",
       "      <td>1</td>\n",
       "      <td>102.99</td>\n",
       "    </tr>\n",
       "    <tr>\n",
       "      <th>18</th>\n",
       "      <td>0052daeb66</td>\n",
       "      <td>520</td>\n",
       "      <td>2</td>\n",
       "      <td>173.93</td>\n",
       "    </tr>\n",
       "    <tr>\n",
       "      <th>...</th>\n",
       "      <td>...</td>\n",
       "      <td>...</td>\n",
       "      <td>...</td>\n",
       "      <td>...</td>\n",
       "    </tr>\n",
       "    <tr>\n",
       "      <th>14259</th>\n",
       "      <td>fe9bf14103</td>\n",
       "      <td>509</td>\n",
       "      <td>1</td>\n",
       "      <td>2.09</td>\n",
       "    </tr>\n",
       "    <tr>\n",
       "      <th>14268</th>\n",
       "      <td>fec65ccf26</td>\n",
       "      <td>520</td>\n",
       "      <td>3</td>\n",
       "      <td>144.41</td>\n",
       "    </tr>\n",
       "    <tr>\n",
       "      <th>14282</th>\n",
       "      <td>fef11ef166</td>\n",
       "      <td>653</td>\n",
       "      <td>2</td>\n",
       "      <td>420.82</td>\n",
       "    </tr>\n",
       "    <tr>\n",
       "      <th>14338</th>\n",
       "      <td>ffaeb2e3ce</td>\n",
       "      <td>652</td>\n",
       "      <td>1</td>\n",
       "      <td>53.44</td>\n",
       "    </tr>\n",
       "    <tr>\n",
       "      <th>14346</th>\n",
       "      <td>ffd3e45675</td>\n",
       "      <td>703</td>\n",
       "      <td>5</td>\n",
       "      <td>726.26</td>\n",
       "    </tr>\n",
       "  </tbody>\n",
       "</table>\n",
       "<p>939 rows × 4 columns</p>\n",
       "</div>"
      ],
      "text/plain": [
       "         merchant  Recency  Frequency  Monetory\n",
       "0      0002b63b92      594          1     33.79\n",
       "2      00057d4302      514          2    295.21\n",
       "3      000bcff341      509          1     78.26\n",
       "4      000ddbf0ca      577          1    102.99\n",
       "18     0052daeb66      520          2    173.93\n",
       "...           ...      ...        ...       ...\n",
       "14259  fe9bf14103      509          1      2.09\n",
       "14268  fec65ccf26      520          3    144.41\n",
       "14282  fef11ef166      653          2    420.82\n",
       "14338  ffaeb2e3ce      652          1     53.44\n",
       "14346  ffd3e45675      703          5    726.26\n",
       "\n",
       "[939 rows x 4 columns]"
      ]
     },
     "execution_count": 341,
     "metadata": {},
     "output_type": "execute_result"
    }
   ],
   "source": [
    "rfm_df[rfm_df['Recency'] > 500]"
   ]
  },
  {
   "cell_type": "markdown",
   "id": "ac2347f8",
   "metadata": {},
   "source": [
    "The outliers are present in Frequency where frequency>100"
   ]
  },
  {
   "cell_type": "code",
   "execution_count": 343,
   "id": "909bea6b",
   "metadata": {},
   "outputs": [
    {
     "data": {
      "text/html": [
       "<div>\n",
       "<style scoped>\n",
       "    .dataframe tbody tr th:only-of-type {\n",
       "        vertical-align: middle;\n",
       "    }\n",
       "\n",
       "    .dataframe tbody tr th {\n",
       "        vertical-align: top;\n",
       "    }\n",
       "\n",
       "    .dataframe thead th {\n",
       "        text-align: right;\n",
       "    }\n",
       "</style>\n",
       "<table border=\"1\" class=\"dataframe\">\n",
       "  <thead>\n",
       "    <tr style=\"text-align: right;\">\n",
       "      <th></th>\n",
       "      <th>merchant</th>\n",
       "      <th>Recency</th>\n",
       "      <th>Frequency</th>\n",
       "      <th>Monetory</th>\n",
       "    </tr>\n",
       "  </thead>\n",
       "  <tbody>\n",
       "    <tr>\n",
       "      <th>6</th>\n",
       "      <td>000f8c3297</td>\n",
       "      <td>1</td>\n",
       "      <td>148</td>\n",
       "      <td>34551.91</td>\n",
       "    </tr>\n",
       "    <tr>\n",
       "      <th>19</th>\n",
       "      <td>00575c7901</td>\n",
       "      <td>0</td>\n",
       "      <td>363</td>\n",
       "      <td>679357.27</td>\n",
       "    </tr>\n",
       "    <tr>\n",
       "      <th>21</th>\n",
       "      <td>005e8bb6fb</td>\n",
       "      <td>72</td>\n",
       "      <td>314</td>\n",
       "      <td>988351.70</td>\n",
       "    </tr>\n",
       "    <tr>\n",
       "      <th>35</th>\n",
       "      <td>00a6d31535</td>\n",
       "      <td>1</td>\n",
       "      <td>211</td>\n",
       "      <td>62278.33</td>\n",
       "    </tr>\n",
       "    <tr>\n",
       "      <th>55</th>\n",
       "      <td>010749c732</td>\n",
       "      <td>324</td>\n",
       "      <td>201</td>\n",
       "      <td>25060.03</td>\n",
       "    </tr>\n",
       "    <tr>\n",
       "      <th>...</th>\n",
       "      <td>...</td>\n",
       "      <td>...</td>\n",
       "      <td>...</td>\n",
       "      <td>...</td>\n",
       "    </tr>\n",
       "    <tr>\n",
       "      <th>14297</th>\n",
       "      <td>ff27d3322a</td>\n",
       "      <td>5</td>\n",
       "      <td>232</td>\n",
       "      <td>11435.06</td>\n",
       "    </tr>\n",
       "    <tr>\n",
       "      <th>14313</th>\n",
       "      <td>ff641d59fd</td>\n",
       "      <td>8</td>\n",
       "      <td>126</td>\n",
       "      <td>36088.23</td>\n",
       "    </tr>\n",
       "    <tr>\n",
       "      <th>14314</th>\n",
       "      <td>ff66c68d69</td>\n",
       "      <td>0</td>\n",
       "      <td>142</td>\n",
       "      <td>65155.52</td>\n",
       "    </tr>\n",
       "    <tr>\n",
       "      <th>14328</th>\n",
       "      <td>ff86f631bd</td>\n",
       "      <td>0</td>\n",
       "      <td>313</td>\n",
       "      <td>328640.57</td>\n",
       "    </tr>\n",
       "    <tr>\n",
       "      <th>14340</th>\n",
       "      <td>ffb94e1865</td>\n",
       "      <td>0</td>\n",
       "      <td>285</td>\n",
       "      <td>255699.60</td>\n",
       "    </tr>\n",
       "  </tbody>\n",
       "</table>\n",
       "<p>1280 rows × 4 columns</p>\n",
       "</div>"
      ],
      "text/plain": [
       "         merchant  Recency  Frequency   Monetory\n",
       "6      000f8c3297        1        148   34551.91\n",
       "19     00575c7901        0        363  679357.27\n",
       "21     005e8bb6fb       72        314  988351.70\n",
       "35     00a6d31535        1        211   62278.33\n",
       "55     010749c732      324        201   25060.03\n",
       "...           ...      ...        ...        ...\n",
       "14297  ff27d3322a        5        232   11435.06\n",
       "14313  ff641d59fd        8        126   36088.23\n",
       "14314  ff66c68d69        0        142   65155.52\n",
       "14328  ff86f631bd        0        313  328640.57\n",
       "14340  ffb94e1865        0        285  255699.60\n",
       "\n",
       "[1280 rows x 4 columns]"
      ]
     },
     "execution_count": 343,
     "metadata": {},
     "output_type": "execute_result"
    }
   ],
   "source": [
    "rfm_df[rfm_df['Frequency'] > 100]"
   ]
  },
  {
   "cell_type": "markdown",
   "id": "086816cc",
   "metadata": {},
   "source": [
    "The outliers are present in Monetory where monetory>100000"
   ]
  },
  {
   "cell_type": "code",
   "execution_count": 346,
   "id": "f12f75ee",
   "metadata": {
    "scrolled": true
   },
   "outputs": [
    {
     "data": {
      "text/html": [
       "<div>\n",
       "<style scoped>\n",
       "    .dataframe tbody tr th:only-of-type {\n",
       "        vertical-align: middle;\n",
       "    }\n",
       "\n",
       "    .dataframe tbody tr th {\n",
       "        vertical-align: top;\n",
       "    }\n",
       "\n",
       "    .dataframe thead th {\n",
       "        text-align: right;\n",
       "    }\n",
       "</style>\n",
       "<table border=\"1\" class=\"dataframe\">\n",
       "  <thead>\n",
       "    <tr style=\"text-align: right;\">\n",
       "      <th></th>\n",
       "      <th>merchant</th>\n",
       "      <th>Recency</th>\n",
       "      <th>Frequency</th>\n",
       "      <th>Monetory</th>\n",
       "    </tr>\n",
       "  </thead>\n",
       "  <tbody>\n",
       "    <tr>\n",
       "      <th>19</th>\n",
       "      <td>00575c7901</td>\n",
       "      <td>0</td>\n",
       "      <td>363</td>\n",
       "      <td>679357.27</td>\n",
       "    </tr>\n",
       "    <tr>\n",
       "      <th>21</th>\n",
       "      <td>005e8bb6fb</td>\n",
       "      <td>72</td>\n",
       "      <td>314</td>\n",
       "      <td>988351.70</td>\n",
       "    </tr>\n",
       "    <tr>\n",
       "      <th>106</th>\n",
       "      <td>01d2ab2ec4</td>\n",
       "      <td>11</td>\n",
       "      <td>31</td>\n",
       "      <td>111770.81</td>\n",
       "    </tr>\n",
       "    <tr>\n",
       "      <th>118</th>\n",
       "      <td>0221b4736b</td>\n",
       "      <td>49</td>\n",
       "      <td>186</td>\n",
       "      <td>119334.06</td>\n",
       "    </tr>\n",
       "    <tr>\n",
       "      <th>139</th>\n",
       "      <td>0294660a13</td>\n",
       "      <td>226</td>\n",
       "      <td>6</td>\n",
       "      <td>120094.95</td>\n",
       "    </tr>\n",
       "    <tr>\n",
       "      <th>...</th>\n",
       "      <td>...</td>\n",
       "      <td>...</td>\n",
       "      <td>...</td>\n",
       "      <td>...</td>\n",
       "    </tr>\n",
       "    <tr>\n",
       "      <th>14263</th>\n",
       "      <td>fea524adfd</td>\n",
       "      <td>0</td>\n",
       "      <td>463</td>\n",
       "      <td>747617.51</td>\n",
       "    </tr>\n",
       "    <tr>\n",
       "      <th>14287</th>\n",
       "      <td>ff068b115a</td>\n",
       "      <td>1</td>\n",
       "      <td>258</td>\n",
       "      <td>229886.77</td>\n",
       "    </tr>\n",
       "    <tr>\n",
       "      <th>14294</th>\n",
       "      <td>ff2221ba77</td>\n",
       "      <td>1</td>\n",
       "      <td>161</td>\n",
       "      <td>208877.78</td>\n",
       "    </tr>\n",
       "    <tr>\n",
       "      <th>14328</th>\n",
       "      <td>ff86f631bd</td>\n",
       "      <td>0</td>\n",
       "      <td>313</td>\n",
       "      <td>328640.57</td>\n",
       "    </tr>\n",
       "    <tr>\n",
       "      <th>14340</th>\n",
       "      <td>ffb94e1865</td>\n",
       "      <td>0</td>\n",
       "      <td>285</td>\n",
       "      <td>255699.60</td>\n",
       "    </tr>\n",
       "  </tbody>\n",
       "</table>\n",
       "<p>499 rows × 4 columns</p>\n",
       "</div>"
      ],
      "text/plain": [
       "         merchant  Recency  Frequency   Monetory\n",
       "19     00575c7901        0        363  679357.27\n",
       "21     005e8bb6fb       72        314  988351.70\n",
       "106    01d2ab2ec4       11         31  111770.81\n",
       "118    0221b4736b       49        186  119334.06\n",
       "139    0294660a13      226          6  120094.95\n",
       "...           ...      ...        ...        ...\n",
       "14263  fea524adfd        0        463  747617.51\n",
       "14287  ff068b115a        1        258  229886.77\n",
       "14294  ff2221ba77        1        161  208877.78\n",
       "14328  ff86f631bd        0        313  328640.57\n",
       "14340  ffb94e1865        0        285  255699.60\n",
       "\n",
       "[499 rows x 4 columns]"
      ]
     },
     "execution_count": 346,
     "metadata": {},
     "output_type": "execute_result"
    }
   ],
   "source": [
    "rfm_df[rfm_df['Monetory'] > 100000]"
   ]
  },
  {
   "cell_type": "markdown",
   "id": "1182a808",
   "metadata": {},
   "source": [
    "<li> There are 939 merchants with outliers in recency. We will cap these merchant's recency with 500. </li> \n",
    "<li> There are 1280 merchants with outliers in recency. We will cap these merchant's frequency with 100. </li> \n",
    "<li> There are 499 merchants with outliers in recency. We will cap these merchant's monetory with 100,000. </li> "
   ]
  },
  {
   "cell_type": "code",
   "execution_count": 349,
   "id": "fac778ad",
   "metadata": {},
   "outputs": [],
   "source": [
    "rfm_df.loc[rfm_df['Recency'] > 500, 'Recency'] = 500\n",
    "rfm_df.loc[rfm_df['Frequency'] > 100, 'Frequency'] = 100\n",
    "rfm_df.loc[rfm_df['Monetory'] > 100000, 'Monetory'] = 100000"
   ]
  },
  {
   "cell_type": "markdown",
   "id": "cc8db04c",
   "metadata": {},
   "source": [
    "Now, we will again check the boxplots for these metrics to check the outliers"
   ]
  },
  {
   "cell_type": "code",
   "execution_count": 350,
   "id": "4381c65e",
   "metadata": {
    "scrolled": true
   },
   "outputs": [
    {
     "data": {
      "image/png": "[encoded data removed]",
      "text/plain": [
       "<Figure size 936x288 with 3 Axes>"
      ]
     },
     "metadata": {
      "needs_background": "light"
     },
     "output_type": "display_data"
    }
   ],
   "source": [
    "#Checking distribution - Boxplot\n",
    "plt.figure(figsize=(13, 4))\n",
    "plt.subplot(1,3,1)\n",
    "sns.boxplot(y = rfm_df['Recency'])\n",
    "plt.subplot(1,3,2)\n",
    "sns.boxplot(y = rfm_df['Frequency'])\n",
    "plt.subplot(1,3,3)\n",
    "sns.boxplot(y = rfm_df['Monetory'])\n",
    "plt.tight_layout()\n",
    "plt.show()"
   ]
  },
  {
   "cell_type": "markdown",
   "id": "2d5c1073",
   "metadata": {},
   "source": [
    "There are no outliers present in the dataset. We can move ahead with the analysis."
   ]
  },
  {
   "cell_type": "markdown",
   "id": "5d820105",
   "metadata": {},
   "source": [
    "To see summary statistics of the dataset"
   ]
  },
  {
   "cell_type": "code",
   "execution_count": 352,
   "id": "2a39756e",
   "metadata": {
    "scrolled": false
   },
   "outputs": [
    {
     "data": {
      "text/html": [
       "<div>\n",
       "<style scoped>\n",
       "    .dataframe tbody tr th:only-of-type {\n",
       "        vertical-align: middle;\n",
       "    }\n",
       "\n",
       "    .dataframe tbody tr th {\n",
       "        vertical-align: top;\n",
       "    }\n",
       "\n",
       "    .dataframe thead th {\n",
       "        text-align: right;\n",
       "    }\n",
       "</style>\n",
       "<table border=\"1\" class=\"dataframe\">\n",
       "  <thead>\n",
       "    <tr style=\"text-align: right;\">\n",
       "      <th></th>\n",
       "      <th>Recency</th>\n",
       "      <th>Frequency</th>\n",
       "      <th>Monetory</th>\n",
       "    </tr>\n",
       "  </thead>\n",
       "  <tbody>\n",
       "    <tr>\n",
       "      <th>count</th>\n",
       "      <td>14351.000000</td>\n",
       "      <td>14351.000000</td>\n",
       "      <td>14351.000000</td>\n",
       "    </tr>\n",
       "    <tr>\n",
       "      <th>mean</th>\n",
       "      <td>130.995610</td>\n",
       "      <td>22.452512</td>\n",
       "      <td>10952.436861</td>\n",
       "    </tr>\n",
       "    <tr>\n",
       "      <th>std</th>\n",
       "      <td>159.082583</td>\n",
       "      <td>30.924234</td>\n",
       "      <td>22711.840598</td>\n",
       "    </tr>\n",
       "    <tr>\n",
       "      <th>min</th>\n",
       "      <td>0.000000</td>\n",
       "      <td>1.000000</td>\n",
       "      <td>2.010000</td>\n",
       "    </tr>\n",
       "    <tr>\n",
       "      <th>25%</th>\n",
       "      <td>10.000000</td>\n",
       "      <td>3.000000</td>\n",
       "      <td>362.630000</td>\n",
       "    </tr>\n",
       "    <tr>\n",
       "      <th>50%</th>\n",
       "      <td>51.000000</td>\n",
       "      <td>7.000000</td>\n",
       "      <td>1602.620000</td>\n",
       "    </tr>\n",
       "    <tr>\n",
       "      <th>75%</th>\n",
       "      <td>213.000000</td>\n",
       "      <td>26.000000</td>\n",
       "      <td>8230.995000</td>\n",
       "    </tr>\n",
       "    <tr>\n",
       "      <th>max</th>\n",
       "      <td>500.000000</td>\n",
       "      <td>100.000000</td>\n",
       "      <td>100000.000000</td>\n",
       "    </tr>\n",
       "  </tbody>\n",
       "</table>\n",
       "</div>"
      ],
      "text/plain": [
       "            Recency     Frequency       Monetory\n",
       "count  14351.000000  14351.000000   14351.000000\n",
       "mean     130.995610     22.452512   10952.436861\n",
       "std      159.082583     30.924234   22711.840598\n",
       "min        0.000000      1.000000       2.010000\n",
       "25%       10.000000      3.000000     362.630000\n",
       "50%       51.000000      7.000000    1602.620000\n",
       "75%      213.000000     26.000000    8230.995000\n",
       "max      500.000000    100.000000  100000.000000"
      ]
     },
     "execution_count": 352,
     "metadata": {},
     "output_type": "execute_result"
    }
   ],
   "source": [
    "rfm_df.describe()"
   ]
  },
  {
   "cell_type": "markdown",
   "id": "9cd53478",
   "metadata": {},
   "source": [
    "### 3.Merchant segmentation"
   ]
  },
  {
   "cell_type": "markdown",
   "id": "585a41e1",
   "metadata": {},
   "source": [
    "Feature generation"
   ]
  },
  {
   "cell_type": "markdown",
   "id": "c865913a",
   "metadata": {},
   "source": [
    "In addition to recency, frequency and monetary variables from RFM approach, we can add a couple of more variables for this approach:\n",
    "\n",
    "   <ol>\n",
    "<li> Number of days since merchant (First order date - Lastdate)</li>\n",
    "<li>Average gap between 2 transactions</li>\n",
    "<li>Average unit price of product bought</li>\n",
    "  </ol>\n",
    "  \n",
    "  \n",
    "Reasoning for new variables:\n",
    "</ol>\n",
    "<li>There can be 2 different merchants with same recency, frequency and monetary values but one is an old merchant who orders after more interval of time, and other can be a new merchant who has ordered a lot in less time period. These 2 variables will help separate these merchants from each other.</li>\n",
    "<li>Although monetary variable does give a picture of monetary value of merchant, adding average unit price will help separate merchant who buy high quantity cheap items and those who buy low quantity expensive items.</li>\n",
    "</ol>"
   ]
  },
  {
   "cell_type": "code",
   "execution_count": 355,
   "id": "7d36c9ea",
   "metadata": {},
   "outputs": [],
   "source": [
    "#Creating df for merchant since days\n",
    "#rfm_df=rfm_df.set_index('merchant')\n",
    "data['date']=pd.to_datetime(data['date'])\n",
    "MerctSinceDf = pd.DataFrame(data.groupby(['merchant']).agg({'date': lambda x : (x.max() - x.min()).days})).reset_index()"
   ]
  },
  {
   "cell_type": "code",
   "execution_count": 356,
   "id": "7a1428e9",
   "metadata": {},
   "outputs": [],
   "source": [
    "#Creating df for average unit price\n",
    "AvgUPDf = pd.DataFrame(data.groupby(['merchant'])['usd'].mean()).reset_index()"
   ]
  },
  {
   "cell_type": "code",
   "execution_count": 357,
   "id": "f3d0c50c",
   "metadata": {},
   "outputs": [],
   "source": [
    "#Creating variable: average \n",
    "\n",
    "#Extracting unique InvoiceNo, CustomerID and Date - to get date of order at merchant level\n",
    "AvgGap1 = data[[ 'merchant', 'date']].drop_duplicates().sort_values(by = ['merchant', 'date'])\n",
    "\n",
    "#Adding lag column for Date, will use this for finding difference between dates of two orders of a customer\n",
    "AvgGap1['date2'] = AvgGap1.groupby(['merchant'])['date'].shift(1)\n",
    "\n",
    "#Dropping NAs\n",
    "AvgGap1.dropna(inplace = True)\n",
    "\n",
    "#Calculating difference between consecutive order dates\n",
    "AvgGap1['DateDiff'] = (AvgGap1['date'] - AvgGap1['date2'])/np.timedelta64(1,'D')\n",
    "\n",
    "#Getting average difference between 2 orders for every customer\n",
    "AvgGap = pd.DataFrame(AvgGap1.groupby(['merchant'])['DateDiff'].mean()).reset_index()\n",
    "\n",
    "#Note: There will be some merchants missing from AvgGap table. These are the ones who ordered just once during their tenure.\n",
    "#After joining with other tables, we can impute its value as a large number(representing huge amount of time between 2 orders)"
   ]
  },
  {
   "cell_type": "code",
   "execution_count": 358,
   "id": "191e1c94",
   "metadata": {
    "scrolled": true
   },
   "outputs": [
    {
     "data": {
      "text/html": [
       "<div>\n",
       "<style scoped>\n",
       "    .dataframe tbody tr th:only-of-type {\n",
       "        vertical-align: middle;\n",
       "    }\n",
       "\n",
       "    .dataframe tbody tr th {\n",
       "        vertical-align: top;\n",
       "    }\n",
       "\n",
       "    .dataframe thead th {\n",
       "        text-align: right;\n",
       "    }\n",
       "</style>\n",
       "<table border=\"1\" class=\"dataframe\">\n",
       "  <thead>\n",
       "    <tr style=\"text-align: right;\">\n",
       "      <th></th>\n",
       "      <th>merchant</th>\n",
       "      <th>Recency</th>\n",
       "      <th>Frequency</th>\n",
       "      <th>Monetory</th>\n",
       "      <th>date</th>\n",
       "      <th>AvgUP</th>\n",
       "      <th>GapbwOrders</th>\n",
       "    </tr>\n",
       "  </thead>\n",
       "  <tbody>\n",
       "    <tr>\n",
       "      <th>0</th>\n",
       "      <td>0002b63b92</td>\n",
       "      <td>500</td>\n",
       "      <td>1</td>\n",
       "      <td>33.79</td>\n",
       "      <td>0</td>\n",
       "      <td>33.790000</td>\n",
       "      <td>NaN</td>\n",
       "    </tr>\n",
       "    <tr>\n",
       "      <th>1</th>\n",
       "      <td>0002d07bba</td>\n",
       "      <td>16</td>\n",
       "      <td>4</td>\n",
       "      <td>892.78</td>\n",
       "      <td>65</td>\n",
       "      <td>223.195000</td>\n",
       "      <td>21.666667</td>\n",
       "    </tr>\n",
       "    <tr>\n",
       "      <th>2</th>\n",
       "      <td>00057d4302</td>\n",
       "      <td>500</td>\n",
       "      <td>2</td>\n",
       "      <td>295.21</td>\n",
       "      <td>66</td>\n",
       "      <td>10.543214</td>\n",
       "      <td>66.000000</td>\n",
       "    </tr>\n",
       "    <tr>\n",
       "      <th>3</th>\n",
       "      <td>000bcff341</td>\n",
       "      <td>500</td>\n",
       "      <td>1</td>\n",
       "      <td>78.26</td>\n",
       "      <td>0</td>\n",
       "      <td>78.260000</td>\n",
       "      <td>NaN</td>\n",
       "    </tr>\n",
       "    <tr>\n",
       "      <th>4</th>\n",
       "      <td>000ddbf0ca</td>\n",
       "      <td>500</td>\n",
       "      <td>1</td>\n",
       "      <td>102.99</td>\n",
       "      <td>0</td>\n",
       "      <td>102.990000</td>\n",
       "      <td>NaN</td>\n",
       "    </tr>\n",
       "    <tr>\n",
       "      <th>...</th>\n",
       "      <td>...</td>\n",
       "      <td>...</td>\n",
       "      <td>...</td>\n",
       "      <td>...</td>\n",
       "      <td>...</td>\n",
       "      <td>...</td>\n",
       "      <td>...</td>\n",
       "    </tr>\n",
       "    <tr>\n",
       "      <th>14346</th>\n",
       "      <td>ffd3e45675</td>\n",
       "      <td>500</td>\n",
       "      <td>5</td>\n",
       "      <td>726.26</td>\n",
       "      <td>23</td>\n",
       "      <td>145.252000</td>\n",
       "      <td>5.750000</td>\n",
       "    </tr>\n",
       "    <tr>\n",
       "      <th>14347</th>\n",
       "      <td>ffe1f6b51a</td>\n",
       "      <td>315</td>\n",
       "      <td>47</td>\n",
       "      <td>2816.16</td>\n",
       "      <td>260</td>\n",
       "      <td>53.135094</td>\n",
       "      <td>5.652174</td>\n",
       "    </tr>\n",
       "    <tr>\n",
       "      <th>14348</th>\n",
       "      <td>ffe26b900d</td>\n",
       "      <td>40</td>\n",
       "      <td>66</td>\n",
       "      <td>9591.13</td>\n",
       "      <td>334</td>\n",
       "      <td>118.409012</td>\n",
       "      <td>5.138462</td>\n",
       "    </tr>\n",
       "    <tr>\n",
       "      <th>14349</th>\n",
       "      <td>ffec05edb9</td>\n",
       "      <td>320</td>\n",
       "      <td>3</td>\n",
       "      <td>159.34</td>\n",
       "      <td>20</td>\n",
       "      <td>53.113333</td>\n",
       "      <td>10.000000</td>\n",
       "    </tr>\n",
       "    <tr>\n",
       "      <th>14350</th>\n",
       "      <td>fff1754102</td>\n",
       "      <td>6</td>\n",
       "      <td>20</td>\n",
       "      <td>5336.95</td>\n",
       "      <td>504</td>\n",
       "      <td>116.020652</td>\n",
       "      <td>26.526316</td>\n",
       "    </tr>\n",
       "  </tbody>\n",
       "</table>\n",
       "<p>14351 rows × 7 columns</p>\n",
       "</div>"
      ],
      "text/plain": [
       "         merchant  Recency  Frequency  Monetory  date       AvgUP  GapbwOrders\n",
       "0      0002b63b92      500          1     33.79     0   33.790000          NaN\n",
       "1      0002d07bba       16          4    892.78    65  223.195000    21.666667\n",
       "2      00057d4302      500          2    295.21    66   10.543214    66.000000\n",
       "3      000bcff341      500          1     78.26     0   78.260000          NaN\n",
       "4      000ddbf0ca      500          1    102.99     0  102.990000          NaN\n",
       "...           ...      ...        ...       ...   ...         ...          ...\n",
       "14346  ffd3e45675      500          5    726.26    23  145.252000     5.750000\n",
       "14347  ffe1f6b51a      315         47   2816.16   260   53.135094     5.652174\n",
       "14348  ffe26b900d       40         66   9591.13   334  118.409012     5.138462\n",
       "14349  ffec05edb9      320          3    159.34    20   53.113333    10.000000\n",
       "14350  fff1754102        6         20   5336.95   504  116.020652    26.526316\n",
       "\n",
       "[14351 rows x 7 columns]"
      ]
     },
     "execution_count": 358,
     "metadata": {},
     "output_type": "execute_result"
    }
   ],
   "source": [
    "#Merging all tables to get desired DataFrame\n",
    "RFMOC = rfm_df.merge(MerctSinceDf, on='merchant')\n",
    "RFMOCCS = RFMOC.merge(AvgUPDf, on = 'merchant')\n",
    "KMeansDf = RFMOCCS.merge(AvgGap, on = 'merchant', how = 'left')\n",
    "\n",
    "#Renaming columns\n",
    "KMeansDf.rename(columns = { 'Date': 'MerchSince', \n",
    "                            'usd': 'AvgUP', 'DateDiff': 'GapbwOrders'}, inplace = True)\n",
    "KMeansDf"
   ]
  },
  {
   "cell_type": "code",
   "execution_count": 359,
   "id": "f05457bc",
   "metadata": {
    "scrolled": true
   },
   "outputs": [
    {
     "data": {
      "text/plain": [
       "merchant          0\n",
       "Recency           0\n",
       "Frequency         0\n",
       "Monetory          0\n",
       "date              0\n",
       "AvgUP             0\n",
       "GapbwOrders    1975\n",
       "dtype: int64"
      ]
     },
     "execution_count": 359,
     "metadata": {},
     "output_type": "execute_result"
    }
   ],
   "source": [
    "#Checking Nulls in KMeansDf\n",
    "KMeansDf.isna().sum()"
   ]
  },
  {
   "cell_type": "code",
   "execution_count": 360,
   "id": "be8d068a",
   "metadata": {},
   "outputs": [
    {
     "data": {
      "text/plain": [
       "Timedelta('729 days 00:00:00')"
      ]
     },
     "execution_count": 360,
     "metadata": {},
     "output_type": "execute_result"
    }
   ],
   "source": [
    "data['date'].max()-data['date'].min()"
   ]
  },
  {
   "cell_type": "markdown",
   "id": "2560da83",
   "metadata": {},
   "source": [
    "As expected nulls are present only in GapbwOrders column. We can replace these nulls by 729 (Larger than date range of dataset)."
   ]
  },
  {
   "cell_type": "markdown",
   "id": "b0a2e19c",
   "metadata": {},
   "source": [
    "Missing value treatment"
   ]
  },
  {
   "cell_type": "code",
   "execution_count": 361,
   "id": "2ae05444",
   "metadata": {
    "scrolled": true
   },
   "outputs": [
    {
     "data": {
      "text/html": [
       "<div>\n",
       "<style scoped>\n",
       "    .dataframe tbody tr th:only-of-type {\n",
       "        vertical-align: middle;\n",
       "    }\n",
       "\n",
       "    .dataframe tbody tr th {\n",
       "        vertical-align: top;\n",
       "    }\n",
       "\n",
       "    .dataframe thead th {\n",
       "        text-align: right;\n",
       "    }\n",
       "</style>\n",
       "<table border=\"1\" class=\"dataframe\">\n",
       "  <thead>\n",
       "    <tr style=\"text-align: right;\">\n",
       "      <th></th>\n",
       "      <th>merchant</th>\n",
       "      <th>Recency</th>\n",
       "      <th>Frequency</th>\n",
       "      <th>Monetory</th>\n",
       "      <th>date</th>\n",
       "      <th>AvgUP</th>\n",
       "      <th>GapbwOrders</th>\n",
       "    </tr>\n",
       "  </thead>\n",
       "  <tbody>\n",
       "    <tr>\n",
       "      <th>0</th>\n",
       "      <td>0002b63b92</td>\n",
       "      <td>500</td>\n",
       "      <td>1</td>\n",
       "      <td>33.79</td>\n",
       "      <td>0</td>\n",
       "      <td>33.790000</td>\n",
       "      <td>729.000000</td>\n",
       "    </tr>\n",
       "    <tr>\n",
       "      <th>1</th>\n",
       "      <td>0002d07bba</td>\n",
       "      <td>16</td>\n",
       "      <td>4</td>\n",
       "      <td>892.78</td>\n",
       "      <td>65</td>\n",
       "      <td>223.195000</td>\n",
       "      <td>21.666667</td>\n",
       "    </tr>\n",
       "    <tr>\n",
       "      <th>2</th>\n",
       "      <td>00057d4302</td>\n",
       "      <td>500</td>\n",
       "      <td>2</td>\n",
       "      <td>295.21</td>\n",
       "      <td>66</td>\n",
       "      <td>10.543214</td>\n",
       "      <td>66.000000</td>\n",
       "    </tr>\n",
       "    <tr>\n",
       "      <th>3</th>\n",
       "      <td>000bcff341</td>\n",
       "      <td>500</td>\n",
       "      <td>1</td>\n",
       "      <td>78.26</td>\n",
       "      <td>0</td>\n",
       "      <td>78.260000</td>\n",
       "      <td>729.000000</td>\n",
       "    </tr>\n",
       "    <tr>\n",
       "      <th>4</th>\n",
       "      <td>000ddbf0ca</td>\n",
       "      <td>500</td>\n",
       "      <td>1</td>\n",
       "      <td>102.99</td>\n",
       "      <td>0</td>\n",
       "      <td>102.990000</td>\n",
       "      <td>729.000000</td>\n",
       "    </tr>\n",
       "  </tbody>\n",
       "</table>\n",
       "</div>"
      ],
      "text/plain": [
       "     merchant  Recency  Frequency  Monetory  date       AvgUP  GapbwOrders\n",
       "0  0002b63b92      500          1     33.79     0   33.790000   729.000000\n",
       "1  0002d07bba       16          4    892.78    65  223.195000    21.666667\n",
       "2  00057d4302      500          2    295.21    66   10.543214    66.000000\n",
       "3  000bcff341      500          1     78.26     0   78.260000   729.000000\n",
       "4  000ddbf0ca      500          1    102.99     0  102.990000   729.000000"
      ]
     },
     "execution_count": 361,
     "metadata": {},
     "output_type": "execute_result"
    }
   ],
   "source": [
    "#Replacing nulls in dataset\n",
    "KMeansDf.fillna(729, inplace = True)\n",
    "KMeansDf.head()"
   ]
  },
  {
   "cell_type": "markdown",
   "id": "0f137ca7",
   "metadata": {},
   "source": [
    "Outlier detection"
   ]
  },
  {
   "cell_type": "code",
   "execution_count": 362,
   "id": "ab291bd9",
   "metadata": {
    "scrolled": true
   },
   "outputs": [
    {
     "data": {
      "image/png": "[encoded data removed]",
      "text/plain": [
       "<Figure size 936x288 with 6 Axes>"
      ]
     },
     "metadata": {
      "needs_background": "light"
     },
     "output_type": "display_data"
    }
   ],
   "source": [
    "#Checking distribution - Boxplot\n",
    "plt.figure(figsize=(13, 4))\n",
    "plt.subplot(1,6,1)\n",
    "sns.boxplot(y = KMeansDf['Recency'])\n",
    "plt.subplot(1,6,2)\n",
    "sns.boxplot(y = KMeansDf['Frequency'])\n",
    "plt.subplot(1,6,3)\n",
    "sns.boxplot(y = KMeansDf['Monetory'])\n",
    "plt.subplot(1,6,4)\n",
    "sns.boxplot(y = KMeansDf['date'])\n",
    "plt.subplot(1,6,5)\n",
    "sns.boxplot(y = KMeansDf['AvgUP'])\n",
    "plt.subplot(1,6,6)\n",
    "sns.boxplot(y = KMeansDf['GapbwOrders'])\n",
    "plt.tight_layout()\n",
    "plt.show()"
   ]
  },
  {
   "cell_type": "markdown",
   "id": "df6b6253",
   "metadata": {},
   "source": [
    "AvgUP can be looked into for extreme outlier value."
   ]
  },
  {
   "cell_type": "code",
   "execution_count": 364,
   "id": "8b9ff08f",
   "metadata": {
    "scrolled": true
   },
   "outputs": [
    {
     "data": {
      "text/html": [
       "<div>\n",
       "<style scoped>\n",
       "    .dataframe tbody tr th:only-of-type {\n",
       "        vertical-align: middle;\n",
       "    }\n",
       "\n",
       "    .dataframe tbody tr th {\n",
       "        vertical-align: top;\n",
       "    }\n",
       "\n",
       "    .dataframe thead th {\n",
       "        text-align: right;\n",
       "    }\n",
       "</style>\n",
       "<table border=\"1\" class=\"dataframe\">\n",
       "  <thead>\n",
       "    <tr style=\"text-align: right;\">\n",
       "      <th></th>\n",
       "      <th>merchant</th>\n",
       "      <th>Recency</th>\n",
       "      <th>Frequency</th>\n",
       "      <th>Monetory</th>\n",
       "      <th>date</th>\n",
       "      <th>AvgUP</th>\n",
       "      <th>GapbwOrders</th>\n",
       "    </tr>\n",
       "  </thead>\n",
       "  <tbody>\n",
       "    <tr>\n",
       "      <th>291</th>\n",
       "      <td>0517835bfd</td>\n",
       "      <td>79</td>\n",
       "      <td>4</td>\n",
       "      <td>71681.88</td>\n",
       "      <td>199</td>\n",
       "      <td>17920.470000</td>\n",
       "      <td>66.333333</td>\n",
       "    </tr>\n",
       "    <tr>\n",
       "      <th>459</th>\n",
       "      <td>0838e4078e</td>\n",
       "      <td>149</td>\n",
       "      <td>3</td>\n",
       "      <td>100000.00</td>\n",
       "      <td>97</td>\n",
       "      <td>87819.843333</td>\n",
       "      <td>48.500000</td>\n",
       "    </tr>\n",
       "    <tr>\n",
       "      <th>2156</th>\n",
       "      <td>26f51e4c7e</td>\n",
       "      <td>164</td>\n",
       "      <td>3</td>\n",
       "      <td>100000.00</td>\n",
       "      <td>41</td>\n",
       "      <td>27630.062500</td>\n",
       "      <td>20.500000</td>\n",
       "    </tr>\n",
       "    <tr>\n",
       "      <th>3694</th>\n",
       "      <td>42229128c1</td>\n",
       "      <td>500</td>\n",
       "      <td>1</td>\n",
       "      <td>40475.21</td>\n",
       "      <td>0</td>\n",
       "      <td>40475.210000</td>\n",
       "      <td>729.000000</td>\n",
       "    </tr>\n",
       "    <tr>\n",
       "      <th>4384</th>\n",
       "      <td>4e5d7ec3de</td>\n",
       "      <td>40</td>\n",
       "      <td>3</td>\n",
       "      <td>86595.03</td>\n",
       "      <td>145</td>\n",
       "      <td>21648.757500</td>\n",
       "      <td>72.500000</td>\n",
       "    </tr>\n",
       "    <tr>\n",
       "      <th>5311</th>\n",
       "      <td>5fe7751b6f</td>\n",
       "      <td>32</td>\n",
       "      <td>3</td>\n",
       "      <td>38551.81</td>\n",
       "      <td>120</td>\n",
       "      <td>12850.603333</td>\n",
       "      <td>60.000000</td>\n",
       "    </tr>\n",
       "    <tr>\n",
       "      <th>5658</th>\n",
       "      <td>6621bcd6c8</td>\n",
       "      <td>19</td>\n",
       "      <td>2</td>\n",
       "      <td>40254.63</td>\n",
       "      <td>557</td>\n",
       "      <td>13418.210000</td>\n",
       "      <td>557.000000</td>\n",
       "    </tr>\n",
       "    <tr>\n",
       "      <th>6909</th>\n",
       "      <td>7bf1cc237a</td>\n",
       "      <td>319</td>\n",
       "      <td>2</td>\n",
       "      <td>21023.02</td>\n",
       "      <td>6</td>\n",
       "      <td>10511.510000</td>\n",
       "      <td>6.000000</td>\n",
       "    </tr>\n",
       "    <tr>\n",
       "      <th>8357</th>\n",
       "      <td>9593c6ea3a</td>\n",
       "      <td>104</td>\n",
       "      <td>9</td>\n",
       "      <td>100000.00</td>\n",
       "      <td>523</td>\n",
       "      <td>13335.663636</td>\n",
       "      <td>65.375000</td>\n",
       "    </tr>\n",
       "    <tr>\n",
       "      <th>8544</th>\n",
       "      <td>9865dca5a3</td>\n",
       "      <td>31</td>\n",
       "      <td>1</td>\n",
       "      <td>13128.20</td>\n",
       "      <td>0</td>\n",
       "      <td>13128.200000</td>\n",
       "      <td>729.000000</td>\n",
       "    </tr>\n",
       "    <tr>\n",
       "      <th>9040</th>\n",
       "      <td>a1135019e0</td>\n",
       "      <td>169</td>\n",
       "      <td>1</td>\n",
       "      <td>12744.08</td>\n",
       "      <td>0</td>\n",
       "      <td>12744.080000</td>\n",
       "      <td>729.000000</td>\n",
       "    </tr>\n",
       "    <tr>\n",
       "      <th>9948</th>\n",
       "      <td>b21191d3aa</td>\n",
       "      <td>212</td>\n",
       "      <td>2</td>\n",
       "      <td>51494.25</td>\n",
       "      <td>191</td>\n",
       "      <td>17164.750000</td>\n",
       "      <td>191.000000</td>\n",
       "    </tr>\n",
       "    <tr>\n",
       "      <th>10370</th>\n",
       "      <td>b993083163</td>\n",
       "      <td>4</td>\n",
       "      <td>5</td>\n",
       "      <td>100000.00</td>\n",
       "      <td>97</td>\n",
       "      <td>88874.651667</td>\n",
       "      <td>24.250000</td>\n",
       "    </tr>\n",
       "    <tr>\n",
       "      <th>11354</th>\n",
       "      <td>cb2d925940</td>\n",
       "      <td>13</td>\n",
       "      <td>1</td>\n",
       "      <td>13363.59</td>\n",
       "      <td>0</td>\n",
       "      <td>13363.590000</td>\n",
       "      <td>729.000000</td>\n",
       "    </tr>\n",
       "    <tr>\n",
       "      <th>11957</th>\n",
       "      <td>d5e3d56faa</td>\n",
       "      <td>32</td>\n",
       "      <td>1</td>\n",
       "      <td>10270.89</td>\n",
       "      <td>0</td>\n",
       "      <td>10270.890000</td>\n",
       "      <td>729.000000</td>\n",
       "    </tr>\n",
       "    <tr>\n",
       "      <th>12306</th>\n",
       "      <td>dbfba22634</td>\n",
       "      <td>258</td>\n",
       "      <td>4</td>\n",
       "      <td>66917.98</td>\n",
       "      <td>102</td>\n",
       "      <td>13383.596000</td>\n",
       "      <td>34.000000</td>\n",
       "    </tr>\n",
       "    <tr>\n",
       "      <th>12307</th>\n",
       "      <td>dbfd952ddf</td>\n",
       "      <td>194</td>\n",
       "      <td>1</td>\n",
       "      <td>10690.11</td>\n",
       "      <td>0</td>\n",
       "      <td>10690.110000</td>\n",
       "      <td>729.000000</td>\n",
       "    </tr>\n",
       "  </tbody>\n",
       "</table>\n",
       "</div>"
      ],
      "text/plain": [
       "         merchant  Recency  Frequency   Monetory  date         AvgUP  \\\n",
       "291    0517835bfd       79          4   71681.88   199  17920.470000   \n",
       "459    0838e4078e      149          3  100000.00    97  87819.843333   \n",
       "2156   26f51e4c7e      164          3  100000.00    41  27630.062500   \n",
       "3694   42229128c1      500          1   40475.21     0  40475.210000   \n",
       "4384   4e5d7ec3de       40          3   86595.03   145  21648.757500   \n",
       "5311   5fe7751b6f       32          3   38551.81   120  12850.603333   \n",
       "5658   6621bcd6c8       19          2   40254.63   557  13418.210000   \n",
       "6909   7bf1cc237a      319          2   21023.02     6  10511.510000   \n",
       "8357   9593c6ea3a      104          9  100000.00   523  13335.663636   \n",
       "8544   9865dca5a3       31          1   13128.20     0  13128.200000   \n",
       "9040   a1135019e0      169          1   12744.08     0  12744.080000   \n",
       "9948   b21191d3aa      212          2   51494.25   191  17164.750000   \n",
       "10370  b993083163        4          5  100000.00    97  88874.651667   \n",
       "11354  cb2d925940       13          1   13363.59     0  13363.590000   \n",
       "11957  d5e3d56faa       32          1   10270.89     0  10270.890000   \n",
       "12306  dbfba22634      258          4   66917.98   102  13383.596000   \n",
       "12307  dbfd952ddf      194          1   10690.11     0  10690.110000   \n",
       "\n",
       "       GapbwOrders  \n",
       "291      66.333333  \n",
       "459      48.500000  \n",
       "2156     20.500000  \n",
       "3694    729.000000  \n",
       "4384     72.500000  \n",
       "5311     60.000000  \n",
       "5658    557.000000  \n",
       "6909      6.000000  \n",
       "8357     65.375000  \n",
       "8544    729.000000  \n",
       "9040    729.000000  \n",
       "9948    191.000000  \n",
       "10370    24.250000  \n",
       "11354   729.000000  \n",
       "11957   729.000000  \n",
       "12306    34.000000  \n",
       "12307   729.000000  "
      ]
     },
     "execution_count": 364,
     "metadata": {},
     "output_type": "execute_result"
    }
   ],
   "source": [
    "KMeansDf[KMeansDf['AvgUP'] > 10000]"
   ]
  },
  {
   "cell_type": "markdown",
   "id": "e2368a71",
   "metadata": {},
   "source": [
    "GapbwOrders can be looked into for extreme outlier value."
   ]
  },
  {
   "cell_type": "code",
   "execution_count": 365,
   "id": "a23ff243",
   "metadata": {
    "scrolled": true
   },
   "outputs": [
    {
     "data": {
      "text/html": [
       "<div>\n",
       "<style scoped>\n",
       "    .dataframe tbody tr th:only-of-type {\n",
       "        vertical-align: middle;\n",
       "    }\n",
       "\n",
       "    .dataframe tbody tr th {\n",
       "        vertical-align: top;\n",
       "    }\n",
       "\n",
       "    .dataframe thead th {\n",
       "        text-align: right;\n",
       "    }\n",
       "</style>\n",
       "<table border=\"1\" class=\"dataframe\">\n",
       "  <thead>\n",
       "    <tr style=\"text-align: right;\">\n",
       "      <th></th>\n",
       "      <th>merchant</th>\n",
       "      <th>Recency</th>\n",
       "      <th>Frequency</th>\n",
       "      <th>Monetory</th>\n",
       "      <th>date</th>\n",
       "      <th>AvgUP</th>\n",
       "      <th>GapbwOrders</th>\n",
       "    </tr>\n",
       "  </thead>\n",
       "  <tbody>\n",
       "    <tr>\n",
       "      <th>0</th>\n",
       "      <td>0002b63b92</td>\n",
       "      <td>500</td>\n",
       "      <td>1</td>\n",
       "      <td>33.79</td>\n",
       "      <td>0</td>\n",
       "      <td>33.790000</td>\n",
       "      <td>729.0</td>\n",
       "    </tr>\n",
       "    <tr>\n",
       "      <th>3</th>\n",
       "      <td>000bcff341</td>\n",
       "      <td>500</td>\n",
       "      <td>1</td>\n",
       "      <td>78.26</td>\n",
       "      <td>0</td>\n",
       "      <td>78.260000</td>\n",
       "      <td>729.0</td>\n",
       "    </tr>\n",
       "    <tr>\n",
       "      <th>4</th>\n",
       "      <td>000ddbf0ca</td>\n",
       "      <td>500</td>\n",
       "      <td>1</td>\n",
       "      <td>102.99</td>\n",
       "      <td>0</td>\n",
       "      <td>102.990000</td>\n",
       "      <td>729.0</td>\n",
       "    </tr>\n",
       "    <tr>\n",
       "      <th>7</th>\n",
       "      <td>001f7b7a4f</td>\n",
       "      <td>304</td>\n",
       "      <td>1</td>\n",
       "      <td>64.44</td>\n",
       "      <td>0</td>\n",
       "      <td>64.440000</td>\n",
       "      <td>729.0</td>\n",
       "    </tr>\n",
       "    <tr>\n",
       "      <th>22</th>\n",
       "      <td>00607c6461</td>\n",
       "      <td>10</td>\n",
       "      <td>1</td>\n",
       "      <td>500.94</td>\n",
       "      <td>0</td>\n",
       "      <td>500.940000</td>\n",
       "      <td>729.0</td>\n",
       "    </tr>\n",
       "    <tr>\n",
       "      <th>...</th>\n",
       "      <td>...</td>\n",
       "      <td>...</td>\n",
       "      <td>...</td>\n",
       "      <td>...</td>\n",
       "      <td>...</td>\n",
       "      <td>...</td>\n",
       "      <td>...</td>\n",
       "    </tr>\n",
       "    <tr>\n",
       "      <th>14288</th>\n",
       "      <td>ff0c1adfdd</td>\n",
       "      <td>328</td>\n",
       "      <td>1</td>\n",
       "      <td>339.22</td>\n",
       "      <td>0</td>\n",
       "      <td>339.220000</td>\n",
       "      <td>729.0</td>\n",
       "    </tr>\n",
       "    <tr>\n",
       "      <th>14305</th>\n",
       "      <td>ff52328395</td>\n",
       "      <td>4</td>\n",
       "      <td>1</td>\n",
       "      <td>1712.21</td>\n",
       "      <td>0</td>\n",
       "      <td>1712.210000</td>\n",
       "      <td>729.0</td>\n",
       "    </tr>\n",
       "    <tr>\n",
       "      <th>14331</th>\n",
       "      <td>ff9135ed50</td>\n",
       "      <td>31</td>\n",
       "      <td>1</td>\n",
       "      <td>188.24</td>\n",
       "      <td>0</td>\n",
       "      <td>188.240000</td>\n",
       "      <td>729.0</td>\n",
       "    </tr>\n",
       "    <tr>\n",
       "      <th>14334</th>\n",
       "      <td>ff98eee16c</td>\n",
       "      <td>325</td>\n",
       "      <td>1</td>\n",
       "      <td>480.41</td>\n",
       "      <td>0</td>\n",
       "      <td>10.008542</td>\n",
       "      <td>729.0</td>\n",
       "    </tr>\n",
       "    <tr>\n",
       "      <th>14338</th>\n",
       "      <td>ffaeb2e3ce</td>\n",
       "      <td>500</td>\n",
       "      <td>1</td>\n",
       "      <td>53.44</td>\n",
       "      <td>0</td>\n",
       "      <td>53.440000</td>\n",
       "      <td>729.0</td>\n",
       "    </tr>\n",
       "  </tbody>\n",
       "</table>\n",
       "<p>1979 rows × 7 columns</p>\n",
       "</div>"
      ],
      "text/plain": [
       "         merchant  Recency  Frequency  Monetory  date        AvgUP  \\\n",
       "0      0002b63b92      500          1     33.79     0    33.790000   \n",
       "3      000bcff341      500          1     78.26     0    78.260000   \n",
       "4      000ddbf0ca      500          1    102.99     0   102.990000   \n",
       "7      001f7b7a4f      304          1     64.44     0    64.440000   \n",
       "22     00607c6461       10          1    500.94     0   500.940000   \n",
       "...           ...      ...        ...       ...   ...          ...   \n",
       "14288  ff0c1adfdd      328          1    339.22     0   339.220000   \n",
       "14305  ff52328395        4          1   1712.21     0  1712.210000   \n",
       "14331  ff9135ed50       31          1    188.24     0   188.240000   \n",
       "14334  ff98eee16c      325          1    480.41     0    10.008542   \n",
       "14338  ffaeb2e3ce      500          1     53.44     0    53.440000   \n",
       "\n",
       "       GapbwOrders  \n",
       "0            729.0  \n",
       "3            729.0  \n",
       "4            729.0  \n",
       "7            729.0  \n",
       "22           729.0  \n",
       "...            ...  \n",
       "14288        729.0  \n",
       "14305        729.0  \n",
       "14331        729.0  \n",
       "14334        729.0  \n",
       "14338        729.0  \n",
       "\n",
       "[1979 rows x 7 columns]"
      ]
     },
     "execution_count": 365,
     "metadata": {},
     "output_type": "execute_result"
    }
   ],
   "source": [
    "KMeansDf[KMeansDf['GapbwOrders'] > 600]"
   ]
  },
  {
   "cell_type": "markdown",
   "id": "307c21bd",
   "metadata": {},
   "source": [
    "We can cap the AvgUP value for outlier merchants as 10000 and cap the GapbwOrders value for outlier merchants as 600."
   ]
  },
  {
   "cell_type": "code",
   "execution_count": 367,
   "id": "1e3504d6",
   "metadata": {},
   "outputs": [],
   "source": [
    "KMeansDf.loc[KMeansDf['AvgUP'] > 10000, 'AvgUP'] = 10000\n",
    "KMeansDf.loc[KMeansDf['GapbwOrders'] > 600, 'GapbwOrders'] = 600"
   ]
  },
  {
   "cell_type": "code",
   "execution_count": 368,
   "id": "2c35abea",
   "metadata": {
    "scrolled": false
   },
   "outputs": [
    {
     "data": {
      "image/png": "[encoded data removed]",
      "text/plain": [
       "<Figure size 936x288 with 6 Axes>"
      ]
     },
     "metadata": {
      "needs_background": "light"
     },
     "output_type": "display_data"
    }
   ],
   "source": [
    "#Checking distribution - Boxplot\n",
    "plt.figure(figsize=(13, 4))\n",
    "plt.subplot(1,6,1)\n",
    "sns.boxplot(y = KMeansDf['Recency'])\n",
    "plt.subplot(1,6,2)\n",
    "sns.boxplot(y = KMeansDf['Frequency'])\n",
    "plt.subplot(1,6,3)\n",
    "sns.boxplot(y = KMeansDf['Monetory'])\n",
    "plt.subplot(1,6,4)\n",
    "sns.boxplot(y = KMeansDf['date'])\n",
    "plt.subplot(1,6,5)\n",
    "sns.boxplot(y = KMeansDf['AvgUP'])\n",
    "plt.subplot(1,6,6)\n",
    "sns.boxplot(y = KMeansDf['GapbwOrders'])\n",
    "plt.tight_layout()\n",
    "plt.show()"
   ]
  },
  {
   "cell_type": "markdown",
   "id": "09c20bc9",
   "metadata": {},
   "source": [
    "Checking correlation between different variables:"
   ]
  },
  {
   "cell_type": "code",
   "execution_count": 370,
   "id": "2d43381f",
   "metadata": {
    "scrolled": false
   },
   "outputs": [
    {
     "data": {
      "text/plain": [
       "<AxesSubplot:>"
      ]
     },
     "execution_count": 370,
     "metadata": {},
     "output_type": "execute_result"
    },
    {
     "data": {
      "image/png": "[encoded data removed]",
      "text/plain": [
       "<Figure size 720x360 with 2 Axes>"
      ]
     },
     "metadata": {
      "needs_background": "light"
     },
     "output_type": "display_data"
    }
   ],
   "source": [
    "corrMatrix = KMeansDf.corr()\n",
    "sns.heatmap(corrMatrix, annot=True)"
   ]
  },
  {
   "cell_type": "markdown",
   "id": "2d4bced9",
   "metadata": {},
   "source": [
    "There is significant correlation between:\n",
    "\n",
    "<ol>\n",
    "<li>Monetary and Frequency</li>\n",
    "<li>date and Frequency</li>\n",
    "</ol>\n",
    "\n",
    "Both of these are expected. Frequency of ordering being the causation for both.\n",
    "We don't need to remove any variable as all 3 add value to the process."
   ]
  },
  {
   "cell_type": "markdown",
   "id": "6d9df097",
   "metadata": {},
   "source": [
    "Feature scaling: \n",
    "Scaling should be performed before Clustering to cancel out the effect of different range of continuous variables and bring all variables to a same scale"
   ]
  },
  {
   "cell_type": "code",
   "execution_count": 371,
   "id": "90ecb782",
   "metadata": {},
   "outputs": [],
   "source": [
    "KMeansDf=KMeansDf.set_index('merchant')\n",
    "#Standardizing the features\n",
    "KMeansScaledDf = StandardScaler().fit_transform(KMeansDf)"
   ]
  },
  {
   "cell_type": "markdown",
   "id": "c70cff46",
   "metadata": {},
   "source": [
    "**Principal Component Analysis**\n",
    "PCA is a form of dimensionality reduction technique deployed to reduce number of features to be used for any machine learning algorithm. It helps improve data compression and reduce computation time. Also, it will help to visualize clusters better."
   ]
  },
  {
   "cell_type": "code",
   "execution_count": 372,
   "id": "66a68a88",
   "metadata": {},
   "outputs": [],
   "source": [
    "#Importing PCA package\n",
    "from sklearn.decomposition import PCA\n",
    "\n",
    "#Setting threshold of variation to be considered for selecting principal components as 95%\n",
    "pca = PCA(0.95)\n",
    "\n",
    "#Performing PCA\n",
    "principalComponents = pca.fit_transform(KMeansScaledDf)"
   ]
  },
  {
   "cell_type": "code",
   "execution_count": 373,
   "id": "6154e6e5",
   "metadata": {
    "scrolled": true
   },
   "outputs": [
    {
     "data": {
      "text/plain": [
       "array([[-2.77023217,  0.62165383,  1.81193753, -1.23065033,  0.59507659],\n",
       "       [-0.45179664, -0.45803536, -0.88881435,  0.25061821, -0.65615112],\n",
       "       [-1.70888421, -0.38875031,  1.56527636,  0.9721566 ,  0.46011658],\n",
       "       ...,\n",
       "       [ 1.42407837, -0.56943195, -0.00892524, -0.20000503,  0.1009733 ],\n",
       "       [-1.29196811, -0.51861728,  0.66330678,  0.87259168, -0.16900201],\n",
       "       [ 1.00377546, -0.61266259, -0.83359325, -0.12787109,  0.95979629]])"
      ]
     },
     "execution_count": 373,
     "metadata": {},
     "output_type": "execute_result"
    }
   ],
   "source": [
    "principalComponents"
   ]
  },
  {
   "cell_type": "markdown",
   "id": "c27257cb",
   "metadata": {},
   "source": [
    "Number of features have been reduced from 6 to 5. Not a significant change, but features are now arranged in order of value add to entire data variation. It will help visualize the clusters better."
   ]
  },
  {
   "cell_type": "code",
   "execution_count": 374,
   "id": "a2b608e0",
   "metadata": {},
   "outputs": [],
   "source": [
    "#Storing PC into a dataframe\n",
    "principalDf = pd.DataFrame(data = principalComponents\n",
    "            , columns = ['principal component 1', 'principal component 2',\n",
    "                         'principal component 3', 'principal component 4',\n",
    "                         'principal component 5'])"
   ]
  },
  {
   "cell_type": "markdown",
   "id": "5c3e108e",
   "metadata": {},
   "source": [
    "Clustering Tendency"
   ]
  },
  {
   "cell_type": "code",
   "execution_count": 375,
   "id": "b84f0980",
   "metadata": {},
   "outputs": [],
   "source": [
    "#Importing required packages and defining function for clustering tendency\n",
    "from sklearn.neighbors import NearestNeighbors\n",
    "from random import sample\n",
    "from numpy.random import uniform\n",
    "from math import isnan\n",
    " \n",
    "def hopkins(X):\n",
    "    d = X.shape[1]\n",
    "    #d = len(vars) # columns\n",
    "    n = len(X) # rows\n",
    "    m = int(0.1 * n) # heuristic from article [1]\n",
    "    nbrs = NearestNeighbors(n_neighbors=1).fit(X.values)\n",
    " \n",
    "    rand_X = sample(range(0, n, 1), m)\n",
    " \n",
    "    ujd = []\n",
    "    wjd = []\n",
    "    for j in range(0, m):\n",
    "        u_dist, _ = nbrs.kneighbors(uniform(np.amin(X,axis=0),np.amax(X,axis=0),d).reshape(1, -1), 2, return_distance=True)\n",
    "        ujd.append(u_dist[0][1])\n",
    "        w_dist, _ = nbrs.kneighbors(X.iloc[rand_X[j]].values.reshape(1, -1), 2, return_distance=True)\n",
    "        wjd.append(w_dist[0][1])\n",
    " \n",
    "    H = sum(ujd) / (sum(ujd) + sum(wjd))\n",
    "    if isnan(H):\n",
    "        print(ujd, wjd)\n",
    "        H = 0\n",
    " \n",
    "    return H"
   ]
  },
  {
   "cell_type": "code",
   "execution_count": 376,
   "id": "e06801ad",
   "metadata": {},
   "outputs": [
    {
     "data": {
      "text/plain": [
       "0.9672969131244689"
      ]
     },
     "execution_count": 376,
     "metadata": {},
     "output_type": "execute_result"
    }
   ],
   "source": [
    "hopkins(principalDf)"
   ]
  },
  {
   "cell_type": "markdown",
   "id": "f1f4ffae",
   "metadata": {},
   "source": [
    "Dataset has great tendency to be clustered. (Values above 0.7 are good)"
   ]
  },
  {
   "cell_type": "markdown",
   "id": "2d8be48d",
   "metadata": {},
   "source": [
    " Optimal number of clusters k"
   ]
  },
  {
   "cell_type": "code",
   "execution_count": 377,
   "id": "93c1580d",
   "metadata": {},
   "outputs": [
    {
     "data": {
      "image/png": "[encoded data removed]",
      "text/plain": [
       "<Figure size 864x216 with 6 Axes>"
      ]
     },
     "metadata": {
      "needs_background": "light"
     },
     "output_type": "display_data"
    }
   ],
   "source": [
    "#Plotting data across 2 components and 1:6 clusters to visualize how the clusters will look for different values of k\n",
    "plt.figure(figsize=(12, 3))\n",
    "for k in range(1,7):\n",
    "    kmeans = KMeans(n_clusters=k)\n",
    "    a = kmeans.fit_predict(principalDf)\n",
    "    plt.subplot(1,6,k)\n",
    "    plt.scatter(principalDf.iloc[:,0], principalDf.iloc[:,1], c=a)\n",
    "    plt.xlabel('k='+str(k))\n",
    "plt.tight_layout()\n",
    "plt.show()"
   ]
  },
  {
   "cell_type": "code",
   "execution_count": 378,
   "id": "65387776",
   "metadata": {},
   "outputs": [],
   "source": [
    "#Creating inertias and distrotion values for different values of k\n",
    "distortions = []\n",
    "inertias = []\n",
    "mapping1 = {}\n",
    "mapping2 = {}\n",
    "K = range(1,10)\n",
    "\n",
    "for k in K:\n",
    "#Building and fitting the model\n",
    "    kmeanModel = KMeans(n_clusters=k).fit(principalDf)\n",
    "    kmeanModel.fit(principalDf)\n",
    "\n",
    "    distortions.append(sum(np.min(cdist(principalDf, kmeanModel.cluster_centers_,\n",
    "    'euclidean'),axis=1)) / rfm_df.shape[0])\n",
    "    inertias.append(kmeanModel.inertia_)\n",
    "\n",
    "    mapping1[k] = sum(np.min(cdist(principalDf, kmeanModel.cluster_centers_,\n",
    "    'euclidean'),axis=1)) / principalDf.shape[0]\n",
    "    mapping2[k] = kmeanModel.inertia_"
   ]
  },
  {
   "cell_type": "code",
   "execution_count": 379,
   "id": "08c5b12f",
   "metadata": {},
   "outputs": [
    {
     "name": "stdout",
     "output_type": "stream",
     "text": [
      "1 : 2.0948871011560795\n",
      "2 : 1.7586803741069115\n",
      "3 : 1.4749087373305736\n",
      "4 : 1.2632017536842741\n",
      "5 : 1.1866214724616346\n",
      "6 : 1.0257709938578587\n",
      "7 : 0.9540951201216766\n",
      "8 : 0.9255792925891559\n",
      "9 : 0.8628296532605451\n"
     ]
    }
   ],
   "source": [
    "for key,val in mapping1.items():\n",
    "    print(str(key)+' : '+str(val))"
   ]
  },
  {
   "cell_type": "code",
   "execution_count": 380,
   "id": "9df2d9bf",
   "metadata": {},
   "outputs": [
    {
     "data": {
      "image/png": "[encoded data removed]",
      "text/plain": [
       "<Figure size 720x360 with 1 Axes>"
      ]
     },
     "metadata": {
      "needs_background": "light"
     },
     "output_type": "display_data"
    }
   ],
   "source": [
    "plt.plot(K, distortions, 'bx-')\n",
    "plt.xlabel('Values of K')\n",
    "plt.ylabel('Distortion')\n",
    "plt.title('The Elbow Method using Distortion')\n",
    "plt.show()"
   ]
  },
  {
   "cell_type": "code",
   "execution_count": 381,
   "id": "7a80ceb9",
   "metadata": {
    "scrolled": true
   },
   "outputs": [
    {
     "name": "stdout",
     "output_type": "stream",
     "text": [
      "1 : 82750.60013473727\n",
      "2 : 57675.240116130444\n",
      "3 : 42894.31008652093\n",
      "4 : 34191.016775411816\n",
      "5 : 26153.55762456562\n",
      "6 : 20859.334842462325\n",
      "7 : 18284.965784965607\n",
      "8 : 16248.449875036604\n",
      "9 : 14404.458565429051\n"
     ]
    }
   ],
   "source": [
    "for key,val in mapping2.items():\n",
    "    print(str(key)+' : '+str(val))"
   ]
  },
  {
   "cell_type": "code",
   "execution_count": 382,
   "id": "16b7a26c",
   "metadata": {
    "scrolled": false
   },
   "outputs": [
    {
     "data": {
      "image/png": "[encoded data removed]",
      "text/plain": [
       "<Figure size 720x360 with 1 Axes>"
      ]
     },
     "metadata": {
      "needs_background": "light"
     },
     "output_type": "display_data"
    }
   ],
   "source": [
    "plt.plot(K, inertias, 'bx-')\n",
    "plt.xlabel('Values of K')\n",
    "plt.ylabel('Inertia')\n",
    "plt.title('The Elbow Method using Inertia')\n",
    "plt.show()"
   ]
  },
  {
   "cell_type": "markdown",
   "id": "d524cecf",
   "metadata": {},
   "source": [
    "Ideally there should be a bend across the elbow curve and we select that value of k as optimal value.\n",
    "Looking at these curves, we can select a high value of k = 5 as optimal value, but that will cause very few number of data points in some cluster (visible from subplots above) and does not make business sense.\n",
    "Hence we can select next best value for k, i.e k = 3"
   ]
  },
  {
   "cell_type": "markdown",
   "id": "b0c6016e",
   "metadata": {},
   "source": [
    "Clustering"
   ]
  },
  {
   "cell_type": "code",
   "execution_count": 385,
   "id": "0b1b507c",
   "metadata": {},
   "outputs": [],
   "source": [
    "#Performing clustering\n",
    "kmeans = KMeans(n_clusters=3)\n",
    "KMeans_out = pd.DataFrame(kmeans.fit_predict(principalDf))\n",
    "KMeans_out.columns = ['Cluster']"
   ]
  },
  {
   "cell_type": "markdown",
   "id": "2f29e83f",
   "metadata": {},
   "source": [
    "Cluster Validation"
   ]
  },
  {
   "cell_type": "code",
   "execution_count": 387,
   "id": "5a830c55",
   "metadata": {},
   "outputs": [],
   "source": [
    "#Importing required packages and defining function for Dunn Index\n",
    "from sklearn.metrics.pairwise import euclidean_distances\n",
    "\n",
    "def delta(ck, cl):\n",
    "    values = np.ones([len(ck), len(cl)])*10000\n",
    "\n",
    "    for i in range(0, len(ck)):\n",
    "        for j in range(0, len(cl)):\n",
    "            values[i, j] = np.linalg.norm(ck[i]-cl[j])\n",
    "\n",
    "    return np.min(values)\n",
    "\n",
    "def big_delta(ci):\n",
    "    values = np.zeros([len(ci), len(ci)])\n",
    "\n",
    "    for i in range(0, len(ci)):\n",
    "        for j in range(0, len(ci)):\n",
    "            values[i, j] = np.linalg.norm(ci[i]-ci[j])\n",
    "\n",
    "    return np.max(values)\n",
    "\n",
    "def dunn(k_list):\n",
    "    \"\"\" Dunn index [CVI]\n",
    "    \n",
    "    Parameters\n",
    "    ----------\n",
    "    k_list : list of np.arrays\n",
    "    A list containing a numpy array for each cluster |c| = number of clusters\n",
    "    c[K] is np.array([N, p]) (N : number of samples in cluster K, p : sample dimension)\n",
    "    \"\"\"\n",
    "    deltas = np.ones([len(k_list), len(k_list)])*1000000\n",
    "    big_deltas = np.zeros([len(k_list), 1])\n",
    "    l_range = list(range(0, len(k_list)))\n",
    "\n",
    "    for k in l_range:\n",
    "        for l in (l_range[0:k]+l_range[k+1:]):\n",
    "            deltas[k, l] = delta(k_list[k], k_list[l])\n",
    "    \n",
    "        big_deltas[k] = big_delta(k_list[k])\n",
    "    \n",
    "    di = np.min(deltas)/np.max(big_deltas)\n",
    "    return di"
   ]
  },
  {
   "cell_type": "code",
   "execution_count": 388,
   "id": "a287177c",
   "metadata": {},
   "outputs": [],
   "source": [
    "#Making index of PCA and KMeans_out same\n",
    "KMeans_out.index = principalDf.index\n",
    "\n",
    "#Concatting both dataframes\n",
    "prediction = pd.concat([principalDf, KMeans_out], axis = 1) \n",
    "\n",
    "#Storing cluster outputs in different data sets and making a list from them\n",
    "clus0 = prediction.loc[prediction.Cluster == 0] \n",
    "clus1 = prediction.loc[prediction.Cluster == 1] \n",
    "clus2 = prediction.loc[prediction.Cluster == 2] \n",
    "#cluster_list = [clus0.values, clus1.values, clus2.values]\n",
    "\n",
    "#print(dunn(cluster_list)) - Kernel was running this for longer time, I still need to deep-dive into this"
   ]
  },
  {
   "cell_type": "markdown",
   "id": "c8fc5fa2",
   "metadata": {},
   "source": [
    "Cluster Definition"
   ]
  },
  {
   "cell_type": "code",
   "execution_count": 390,
   "id": "dc95b710",
   "metadata": {},
   "outputs": [],
   "source": [
    "#Joining clustering output with base dataset\n",
    "KMeans_out.index = KMeansDf.index\n",
    "KMeans_out_df = pd.concat([KMeansDf, KMeans_out], axis = 1)"
   ]
  },
  {
   "cell_type": "code",
   "execution_count": 391,
   "id": "b576fbce",
   "metadata": {
    "scrolled": true
   },
   "outputs": [
    {
     "data": {
      "text/plain": [
       "'Cluster 0'"
      ]
     },
     "metadata": {},
     "output_type": "display_data"
    },
    {
     "data": {
      "text/html": [
       "<div>\n",
       "<style scoped>\n",
       "    .dataframe tbody tr th:only-of-type {\n",
       "        vertical-align: middle;\n",
       "    }\n",
       "\n",
       "    .dataframe tbody tr th {\n",
       "        vertical-align: top;\n",
       "    }\n",
       "\n",
       "    .dataframe thead th {\n",
       "        text-align: right;\n",
       "    }\n",
       "</style>\n",
       "<table border=\"1\" class=\"dataframe\">\n",
       "  <thead>\n",
       "    <tr style=\"text-align: right;\">\n",
       "      <th></th>\n",
       "      <th>Recency</th>\n",
       "      <th>Frequency</th>\n",
       "      <th>Monetory</th>\n",
       "      <th>date</th>\n",
       "      <th>AvgUP</th>\n",
       "      <th>GapbwOrders</th>\n",
       "      <th>Cluster</th>\n",
       "    </tr>\n",
       "  </thead>\n",
       "  <tbody>\n",
       "    <tr>\n",
       "      <th>count</th>\n",
       "      <td>2003.000000</td>\n",
       "      <td>2003.000000</td>\n",
       "      <td>2003.000000</td>\n",
       "      <td>2003.000000</td>\n",
       "      <td>2003.000000</td>\n",
       "      <td>2003.000000</td>\n",
       "      <td>2003.0</td>\n",
       "    </tr>\n",
       "    <tr>\n",
       "      <th>mean</th>\n",
       "      <td>222.288068</td>\n",
       "      <td>1.013979</td>\n",
       "      <td>880.943879</td>\n",
       "      <td>6.093859</td>\n",
       "      <td>573.096478</td>\n",
       "      <td>597.580130</td>\n",
       "      <td>0.0</td>\n",
       "    </tr>\n",
       "    <tr>\n",
       "      <th>std</th>\n",
       "      <td>176.583240</td>\n",
       "      <td>0.117433</td>\n",
       "      <td>2683.727640</td>\n",
       "      <td>55.128088</td>\n",
       "      <td>1304.926469</td>\n",
       "      <td>27.837655</td>\n",
       "      <td>0.0</td>\n",
       "    </tr>\n",
       "    <tr>\n",
       "      <th>min</th>\n",
       "      <td>0.000000</td>\n",
       "      <td>1.000000</td>\n",
       "      <td>2.010000</td>\n",
       "      <td>0.000000</td>\n",
       "      <td>2.010000</td>\n",
       "      <td>6.000000</td>\n",
       "      <td>0.0</td>\n",
       "    </tr>\n",
       "    <tr>\n",
       "      <th>25%</th>\n",
       "      <td>55.000000</td>\n",
       "      <td>1.000000</td>\n",
       "      <td>74.310000</td>\n",
       "      <td>0.000000</td>\n",
       "      <td>61.195000</td>\n",
       "      <td>600.000000</td>\n",
       "      <td>0.0</td>\n",
       "    </tr>\n",
       "    <tr>\n",
       "      <th>50%</th>\n",
       "      <td>190.000000</td>\n",
       "      <td>1.000000</td>\n",
       "      <td>197.950000</td>\n",
       "      <td>0.000000</td>\n",
       "      <td>153.530000</td>\n",
       "      <td>600.000000</td>\n",
       "      <td>0.0</td>\n",
       "    </tr>\n",
       "    <tr>\n",
       "      <th>75%</th>\n",
       "      <td>384.500000</td>\n",
       "      <td>1.000000</td>\n",
       "      <td>574.365000</td>\n",
       "      <td>0.000000</td>\n",
       "      <td>421.590000</td>\n",
       "      <td>600.000000</td>\n",
       "      <td>0.0</td>\n",
       "    </tr>\n",
       "    <tr>\n",
       "      <th>max</th>\n",
       "      <td>500.000000</td>\n",
       "      <td>2.000000</td>\n",
       "      <td>51494.250000</td>\n",
       "      <td>724.000000</td>\n",
       "      <td>10000.000000</td>\n",
       "      <td>600.000000</td>\n",
       "      <td>0.0</td>\n",
       "    </tr>\n",
       "  </tbody>\n",
       "</table>\n",
       "</div>"
      ],
      "text/plain": [
       "           Recency    Frequency      Monetory         date         AvgUP  \\\n",
       "count  2003.000000  2003.000000   2003.000000  2003.000000   2003.000000   \n",
       "mean    222.288068     1.013979    880.943879     6.093859    573.096478   \n",
       "std     176.583240     0.117433   2683.727640    55.128088   1304.926469   \n",
       "min       0.000000     1.000000      2.010000     0.000000      2.010000   \n",
       "25%      55.000000     1.000000     74.310000     0.000000     61.195000   \n",
       "50%     190.000000     1.000000    197.950000     0.000000    153.530000   \n",
       "75%     384.500000     1.000000    574.365000     0.000000    421.590000   \n",
       "max     500.000000     2.000000  51494.250000   724.000000  10000.000000   \n",
       "\n",
       "       GapbwOrders  Cluster  \n",
       "count  2003.000000   2003.0  \n",
       "mean    597.580130      0.0  \n",
       "std      27.837655      0.0  \n",
       "min       6.000000      0.0  \n",
       "25%     600.000000      0.0  \n",
       "50%     600.000000      0.0  \n",
       "75%     600.000000      0.0  \n",
       "max     600.000000      0.0  "
      ]
     },
     "metadata": {},
     "output_type": "display_data"
    },
    {
     "data": {
      "text/plain": [
       "'Cluster 1'"
      ]
     },
     "metadata": {},
     "output_type": "display_data"
    },
    {
     "data": {
      "text/html": [
       "<div>\n",
       "<style scoped>\n",
       "    .dataframe tbody tr th:only-of-type {\n",
       "        vertical-align: middle;\n",
       "    }\n",
       "\n",
       "    .dataframe tbody tr th {\n",
       "        vertical-align: top;\n",
       "    }\n",
       "\n",
       "    .dataframe thead th {\n",
       "        text-align: right;\n",
       "    }\n",
       "</style>\n",
       "<table border=\"1\" class=\"dataframe\">\n",
       "  <thead>\n",
       "    <tr style=\"text-align: right;\">\n",
       "      <th></th>\n",
       "      <th>Recency</th>\n",
       "      <th>Frequency</th>\n",
       "      <th>Monetory</th>\n",
       "      <th>date</th>\n",
       "      <th>AvgUP</th>\n",
       "      <th>GapbwOrders</th>\n",
       "      <th>Cluster</th>\n",
       "    </tr>\n",
       "  </thead>\n",
       "  <tbody>\n",
       "    <tr>\n",
       "      <th>count</th>\n",
       "      <td>9804.000000</td>\n",
       "      <td>9804.000000</td>\n",
       "      <td>9804.000000</td>\n",
       "      <td>9804.000000</td>\n",
       "      <td>9804.000000</td>\n",
       "      <td>9804.000000</td>\n",
       "      <td>9804.0</td>\n",
       "    </tr>\n",
       "    <tr>\n",
       "      <th>mean</th>\n",
       "      <td>140.571093</td>\n",
       "      <td>12.232048</td>\n",
       "      <td>3726.508808</td>\n",
       "      <td>174.681355</td>\n",
       "      <td>284.338464</td>\n",
       "      <td>29.419715</td>\n",
       "      <td>1.0</td>\n",
       "    </tr>\n",
       "    <tr>\n",
       "      <th>std</th>\n",
       "      <td>158.024289</td>\n",
       "      <td>13.354576</td>\n",
       "      <td>6500.955423</td>\n",
       "      <td>169.283978</td>\n",
       "      <td>590.041167</td>\n",
       "      <td>43.006413</td>\n",
       "      <td>0.0</td>\n",
       "    </tr>\n",
       "    <tr>\n",
       "      <th>min</th>\n",
       "      <td>0.000000</td>\n",
       "      <td>2.000000</td>\n",
       "      <td>4.120000</td>\n",
       "      <td>1.000000</td>\n",
       "      <td>2.060000</td>\n",
       "      <td>1.000000</td>\n",
       "      <td>1.0</td>\n",
       "    </tr>\n",
       "    <tr>\n",
       "      <th>25%</th>\n",
       "      <td>16.000000</td>\n",
       "      <td>3.000000</td>\n",
       "      <td>398.237500</td>\n",
       "      <td>33.000000</td>\n",
       "      <td>54.607444</td>\n",
       "      <td>5.500000</td>\n",
       "      <td>1.0</td>\n",
       "    </tr>\n",
       "    <tr>\n",
       "      <th>50%</th>\n",
       "      <td>69.000000</td>\n",
       "      <td>7.000000</td>\n",
       "      <td>1279.825000</td>\n",
       "      <td>118.000000</td>\n",
       "      <td>98.142375</td>\n",
       "      <td>14.548611</td>\n",
       "      <td>1.0</td>\n",
       "    </tr>\n",
       "    <tr>\n",
       "      <th>75%</th>\n",
       "      <td>229.000000</td>\n",
       "      <td>16.000000</td>\n",
       "      <td>3990.725000</td>\n",
       "      <td>281.000000</td>\n",
       "      <td>225.477500</td>\n",
       "      <td>34.366477</td>\n",
       "      <td>1.0</td>\n",
       "    </tr>\n",
       "    <tr>\n",
       "      <th>max</th>\n",
       "      <td>500.000000</td>\n",
       "      <td>100.000000</td>\n",
       "      <td>87229.070000</td>\n",
       "      <td>722.000000</td>\n",
       "      <td>10000.000000</td>\n",
       "      <td>409.000000</td>\n",
       "      <td>1.0</td>\n",
       "    </tr>\n",
       "  </tbody>\n",
       "</table>\n",
       "</div>"
      ],
      "text/plain": [
       "           Recency    Frequency      Monetory         date         AvgUP  \\\n",
       "count  9804.000000  9804.000000   9804.000000  9804.000000   9804.000000   \n",
       "mean    140.571093    12.232048   3726.508808   174.681355    284.338464   \n",
       "std     158.024289    13.354576   6500.955423   169.283978    590.041167   \n",
       "min       0.000000     2.000000      4.120000     1.000000      2.060000   \n",
       "25%      16.000000     3.000000    398.237500    33.000000     54.607444   \n",
       "50%      69.000000     7.000000   1279.825000   118.000000     98.142375   \n",
       "75%     229.000000    16.000000   3990.725000   281.000000    225.477500   \n",
       "max     500.000000   100.000000  87229.070000   722.000000  10000.000000   \n",
       "\n",
       "       GapbwOrders  Cluster  \n",
       "count  9804.000000   9804.0  \n",
       "mean     29.419715      1.0  \n",
       "std      43.006413      0.0  \n",
       "min       1.000000      1.0  \n",
       "25%       5.500000      1.0  \n",
       "50%      14.548611      1.0  \n",
       "75%      34.366477      1.0  \n",
       "max     409.000000      1.0  "
      ]
     },
     "metadata": {},
     "output_type": "display_data"
    },
    {
     "data": {
      "text/plain": [
       "'Cluster 2'"
      ]
     },
     "metadata": {},
     "output_type": "display_data"
    },
    {
     "data": {
      "text/html": [
       "<div>\n",
       "<style scoped>\n",
       "    .dataframe tbody tr th:only-of-type {\n",
       "        vertical-align: middle;\n",
       "    }\n",
       "\n",
       "    .dataframe tbody tr th {\n",
       "        vertical-align: top;\n",
       "    }\n",
       "\n",
       "    .dataframe thead th {\n",
       "        text-align: right;\n",
       "    }\n",
       "</style>\n",
       "<table border=\"1\" class=\"dataframe\">\n",
       "  <thead>\n",
       "    <tr style=\"text-align: right;\">\n",
       "      <th></th>\n",
       "      <th>Recency</th>\n",
       "      <th>Frequency</th>\n",
       "      <th>Monetory</th>\n",
       "      <th>date</th>\n",
       "      <th>AvgUP</th>\n",
       "      <th>GapbwOrders</th>\n",
       "      <th>Cluster</th>\n",
       "    </tr>\n",
       "  </thead>\n",
       "  <tbody>\n",
       "    <tr>\n",
       "      <th>count</th>\n",
       "      <td>2544.000000</td>\n",
       "      <td>2544.000000</td>\n",
       "      <td>2544.000000</td>\n",
       "      <td>2544.000000</td>\n",
       "      <td>2544.000000</td>\n",
       "      <td>2544.000000</td>\n",
       "      <td>2544.0</td>\n",
       "    </tr>\n",
       "    <tr>\n",
       "      <th>mean</th>\n",
       "      <td>22.215409</td>\n",
       "      <td>78.719340</td>\n",
       "      <td>46729.244674</td>\n",
       "      <td>449.788522</td>\n",
       "      <td>502.197896</td>\n",
       "      <td>7.206422</td>\n",
       "      <td>2.0</td>\n",
       "    </tr>\n",
       "    <tr>\n",
       "      <th>std</th>\n",
       "      <td>56.924293</td>\n",
       "      <td>27.873835</td>\n",
       "      <td>34358.683276</td>\n",
       "      <td>165.094163</td>\n",
       "      <td>1080.013689</td>\n",
       "      <td>12.267704</td>\n",
       "      <td>0.0</td>\n",
       "    </tr>\n",
       "    <tr>\n",
       "      <th>min</th>\n",
       "      <td>0.000000</td>\n",
       "      <td>2.000000</td>\n",
       "      <td>463.510000</td>\n",
       "      <td>1.000000</td>\n",
       "      <td>2.460000</td>\n",
       "      <td>1.000000</td>\n",
       "      <td>2.0</td>\n",
       "    </tr>\n",
       "    <tr>\n",
       "      <th>25%</th>\n",
       "      <td>1.000000</td>\n",
       "      <td>60.000000</td>\n",
       "      <td>16840.535000</td>\n",
       "      <td>330.000000</td>\n",
       "      <td>70.633744</td>\n",
       "      <td>2.036146</td>\n",
       "      <td>2.0</td>\n",
       "    </tr>\n",
       "    <tr>\n",
       "      <th>50%</th>\n",
       "      <td>3.000000</td>\n",
       "      <td>100.000000</td>\n",
       "      <td>35615.535000</td>\n",
       "      <td>462.000000</td>\n",
       "      <td>144.235195</td>\n",
       "      <td>3.910645</td>\n",
       "      <td>2.0</td>\n",
       "    </tr>\n",
       "    <tr>\n",
       "      <th>75%</th>\n",
       "      <td>14.000000</td>\n",
       "      <td>100.000000</td>\n",
       "      <td>81219.892500</td>\n",
       "      <td>582.250000</td>\n",
       "      <td>394.569228</td>\n",
       "      <td>7.825658</td>\n",
       "      <td>2.0</td>\n",
       "    </tr>\n",
       "    <tr>\n",
       "      <th>max</th>\n",
       "      <td>500.000000</td>\n",
       "      <td>100.000000</td>\n",
       "      <td>100000.000000</td>\n",
       "      <td>729.000000</td>\n",
       "      <td>10000.000000</td>\n",
       "      <td>223.333333</td>\n",
       "      <td>2.0</td>\n",
       "    </tr>\n",
       "  </tbody>\n",
       "</table>\n",
       "</div>"
      ],
      "text/plain": [
       "           Recency    Frequency       Monetory         date         AvgUP  \\\n",
       "count  2544.000000  2544.000000    2544.000000  2544.000000   2544.000000   \n",
       "mean     22.215409    78.719340   46729.244674   449.788522    502.197896   \n",
       "std      56.924293    27.873835   34358.683276   165.094163   1080.013689   \n",
       "min       0.000000     2.000000     463.510000     1.000000      2.460000   \n",
       "25%       1.000000    60.000000   16840.535000   330.000000     70.633744   \n",
       "50%       3.000000   100.000000   35615.535000   462.000000    144.235195   \n",
       "75%      14.000000   100.000000   81219.892500   582.250000    394.569228   \n",
       "max     500.000000   100.000000  100000.000000   729.000000  10000.000000   \n",
       "\n",
       "       GapbwOrders  Cluster  \n",
       "count  2544.000000   2544.0  \n",
       "mean      7.206422      2.0  \n",
       "std      12.267704      0.0  \n",
       "min       1.000000      2.0  \n",
       "25%       2.036146      2.0  \n",
       "50%       3.910645      2.0  \n",
       "75%       7.825658      2.0  \n",
       "max     223.333333      2.0  "
      ]
     },
     "metadata": {},
     "output_type": "display_data"
    }
   ],
   "source": [
    "from IPython.display import display\n",
    "display('Cluster 0',KMeans_out_df.loc[KMeans_out_df['Cluster'] == 0].describe())\n",
    "display('Cluster 1',KMeans_out_df.loc[KMeans_out_df['Cluster'] == 1].describe())\n",
    "display('Cluster 2',KMeans_out_df.loc[KMeans_out_df['Cluster'] == 2].describe())"
   ]
  },
  {
   "cell_type": "markdown",
   "id": "78751165",
   "metadata": {},
   "source": [
    "**Merchant Segments:**\n",
    "<ol>\n",
    "<li>One time Merchants (Cluster 0): These are the Merchants who: </li>\n",
    "<ol>    \n",
    "<li>Shopped once and did not come back</li>\n",
    "<li>Did not shop recently</li>\n",
    "<li>Very less revenue contributors</li>\n",
    " <li>Less tenure with stripe</li>\n",
    "    <li>Gap between consecutive transactions is very large</li>\n",
    "<li>Constitute around 14% of total merchant base</li>\n",
    "    </ol>\n",
    "\n",
    "<li>Active Merchants (Cluster 1): These are the Merchants who:</li>\n",
    "    <ol>\n",
    "<li>Shopped often and frequently</li>\n",
    "<li>Contributed less to  overall revenue</li>\n",
    " <li>On an avg 6 months tenure with stripe</li>\n",
    "        <li>On an avg 1 month time difference between the consecutive transactions</li>\n",
    "<li>Constitute ~68% of all customers</li>\n",
    "    </ol>\n",
    "    \n",
    "<li>Loyal Merchants (Cluster 2): These are the Merchants who:</li>\n",
    "    <ol>\n",
    "<li>Shopped very often and frequently</li>\n",
    "        <li>Did shop recently</li>\n",
    "<li>Contributed huge to  overall revenue</li>\n",
    "        <li>Longer tenure with stripe</li>\n",
    "         <li>Gap between consecutive transactions is very less</li>\n",
    "<li>Constitute ~18% of all customers</li>\n",
    "    </ol>\n",
    "</ol>"
   ]
  },
  {
   "cell_type": "markdown",
   "id": "daf9950a",
   "metadata": {},
   "source": [
    "### 4.Merchant churn analysis"
   ]
  },
  {
   "cell_type": "markdown",
   "id": "7d9ee162",
   "metadata": {},
   "source": [
    "For churn analysis, we will not consider the Cluster 0 as they have made ver less transactions in given 2 years and it does not make sense to analyze their behaviour in terms of churn analysis. We can understand their trend separately. "
   ]
  },
  {
   "cell_type": "markdown",
   "id": "65eb9f13",
   "metadata": {},
   "source": [
    "Checking the recency trend for cluster 1"
   ]
  },
  {
   "cell_type": "code",
   "execution_count": 392,
   "id": "f95bf7c5",
   "metadata": {
    "scrolled": true
   },
   "outputs": [
    {
     "data": {
      "text/plain": [
       "<AxesSubplot:xlabel='Recency'>"
      ]
     },
     "execution_count": 392,
     "metadata": {},
     "output_type": "execute_result"
    },
    {
     "data": {
      "image/png": "[encoded data removed]",
      "text/plain": [
       "<Figure size 720x360 with 1 Axes>"
      ]
     },
     "metadata": {
      "needs_background": "light"
     },
     "output_type": "display_data"
    }
   ],
   "source": [
    "KMeans_out_df.loc[KMeans_out_df['Cluster']==1].groupby(['Recency'])['Recency'].count().plot(kind = 'line')"
   ]
  },
  {
   "cell_type": "markdown",
   "id": "f2c3e858",
   "metadata": {},
   "source": [
    "Since, the mean of gap of consecutive orders for cluster 1 is aorund 30 days. We can say that merchants with recency <30 can make transaction in upcoming days, so we can remove them."
   ]
  },
  {
   "cell_type": "markdown",
   "id": "85d891e1",
   "metadata": {},
   "source": [
    "Checking the frequency trend for cluster 1"
   ]
  },
  {
   "cell_type": "code",
   "execution_count": 478,
   "id": "d11567bf",
   "metadata": {
    "scrolled": false
   },
   "outputs": [
    {
     "data": {
      "text/plain": [
       "<AxesSubplot:xlabel='Frequency'>"
      ]
     },
     "execution_count": 478,
     "metadata": {},
     "output_type": "execute_result"
    },
    {
     "data": {
      "image/png": "[encoded data removed]",
      "text/plain": [
       "<Figure size 720x360 with 1 Axes>"
      ]
     },
     "metadata": {
      "needs_background": "light"
     },
     "output_type": "display_data"
    }
   ],
   "source": [
    "KMeans_out_df.loc[(KMeans_out_df['Cluster']==1) & (KMeans_out_df['Recency']>150)].groupby(['Frequency'])['Frequency'].count().plot(kind = 'line')"
   ]
  },
  {
   "cell_type": "markdown",
   "id": "8f923f69",
   "metadata": {},
   "source": [
    "Checking the Gap between orders trend for cluster 1"
   ]
  },
  {
   "cell_type": "code",
   "execution_count": 480,
   "id": "a86af749",
   "metadata": {
    "scrolled": true
   },
   "outputs": [
    {
     "data": {
      "text/plain": [
       "<AxesSubplot:xlabel='GapbwOrders'>"
      ]
     },
     "execution_count": 480,
     "metadata": {},
     "output_type": "execute_result"
    },
    {
     "data": {
      "image/png": "[encoded data removed]",
      "text/plain": [
       "<Figure size 720x360 with 1 Axes>"
      ]
     },
     "metadata": {
      "needs_background": "light"
     },
     "output_type": "display_data"
    }
   ],
   "source": [
    "KMeans_out_df.loc[(KMeans_out_df['Cluster']==1) & (KMeans_out_df['Recency']>150)].groupby(['GapbwOrders'])['GapbwOrders'].count().plot(kind = 'line')"
   ]
  },
  {
   "cell_type": "markdown",
   "id": "eb9c69ae",
   "metadata": {},
   "source": [
    "For cluster 1, if the merchant has not made any transaction in recent 60 days, if his mean gap between orders is less than 30 days (intution: if merchant stopped making transaction with stripe, his recency will increase and since he was an active customer before his reecency will be more than the avg gap between the orders) and merchants who have made atleast 3 transactions, then we will tag the merchant to be churned."
   ]
  },
  {
   "cell_type": "code",
   "execution_count": 482,
   "id": "c33bd729",
   "metadata": {
    "scrolled": true
   },
   "outputs": [
    {
     "name": "stderr",
     "output_type": "stream",
     "text": [
      "C:\\Users\\apoor\\AppData\\Local\\Temp/ipykernel_15940/3029566892.py:2: SettingWithCopyWarning: \n",
      "A value is trying to be set on a copy of a slice from a DataFrame.\n",
      "Try using .loc[row_indexer,col_indexer] = value instead\n",
      "\n",
      "See the caveats in the documentation: https://pandas.pydata.org/pandas-docs/stable/user_guide/indexing.html#returning-a-view-versus-a-copy\n",
      "  model_df['churn']=1\n"
     ]
    },
    {
     "data": {
      "text/html": [
       "<div>\n",
       "<style scoped>\n",
       "    .dataframe tbody tr th:only-of-type {\n",
       "        vertical-align: middle;\n",
       "    }\n",
       "\n",
       "    .dataframe tbody tr th {\n",
       "        vertical-align: top;\n",
       "    }\n",
       "\n",
       "    .dataframe thead th {\n",
       "        text-align: right;\n",
       "    }\n",
       "</style>\n",
       "<table border=\"1\" class=\"dataframe\">\n",
       "  <thead>\n",
       "    <tr style=\"text-align: right;\">\n",
       "      <th></th>\n",
       "      <th>Recency</th>\n",
       "      <th>Frequency</th>\n",
       "      <th>Monetory</th>\n",
       "      <th>date</th>\n",
       "      <th>AvgUP</th>\n",
       "      <th>GapbwOrders</th>\n",
       "      <th>Cluster</th>\n",
       "      <th>churn</th>\n",
       "    </tr>\n",
       "    <tr>\n",
       "      <th>merchant</th>\n",
       "      <th></th>\n",
       "      <th></th>\n",
       "      <th></th>\n",
       "      <th></th>\n",
       "      <th></th>\n",
       "      <th></th>\n",
       "      <th></th>\n",
       "      <th></th>\n",
       "    </tr>\n",
       "  </thead>\n",
       "  <tbody>\n",
       "    <tr>\n",
       "      <th>0026f256ac</th>\n",
       "      <td>472</td>\n",
       "      <td>8</td>\n",
       "      <td>2508.78</td>\n",
       "      <td>89</td>\n",
       "      <td>313.597500</td>\n",
       "      <td>12.714286</td>\n",
       "      <td>1</td>\n",
       "      <td>1</td>\n",
       "    </tr>\n",
       "    <tr>\n",
       "      <th>0042aadfdf</th>\n",
       "      <td>200</td>\n",
       "      <td>54</td>\n",
       "      <td>8069.78</td>\n",
       "      <td>105</td>\n",
       "      <td>56.040139</td>\n",
       "      <td>1.981132</td>\n",
       "      <td>1</td>\n",
       "      <td>1</td>\n",
       "    </tr>\n",
       "    <tr>\n",
       "      <th>004a994585</th>\n",
       "      <td>70</td>\n",
       "      <td>14</td>\n",
       "      <td>3715.72</td>\n",
       "      <td>195</td>\n",
       "      <td>265.408571</td>\n",
       "      <td>15.000000</td>\n",
       "      <td>1</td>\n",
       "      <td>1</td>\n",
       "    </tr>\n",
       "    <tr>\n",
       "      <th>004d02cb10</th>\n",
       "      <td>423</td>\n",
       "      <td>23</td>\n",
       "      <td>13422.72</td>\n",
       "      <td>134</td>\n",
       "      <td>432.990968</td>\n",
       "      <td>6.090909</td>\n",
       "      <td>1</td>\n",
       "      <td>1</td>\n",
       "    </tr>\n",
       "    <tr>\n",
       "      <th>0082de98e9</th>\n",
       "      <td>168</td>\n",
       "      <td>9</td>\n",
       "      <td>965.51</td>\n",
       "      <td>26</td>\n",
       "      <td>53.639444</td>\n",
       "      <td>3.250000</td>\n",
       "      <td>1</td>\n",
       "      <td>1</td>\n",
       "    </tr>\n",
       "    <tr>\n",
       "      <th>...</th>\n",
       "      <td>...</td>\n",
       "      <td>...</td>\n",
       "      <td>...</td>\n",
       "      <td>...</td>\n",
       "      <td>...</td>\n",
       "      <td>...</td>\n",
       "      <td>...</td>\n",
       "      <td>...</td>\n",
       "    </tr>\n",
       "    <tr>\n",
       "      <th>ff8f964b25</th>\n",
       "      <td>225</td>\n",
       "      <td>16</td>\n",
       "      <td>595.59</td>\n",
       "      <td>322</td>\n",
       "      <td>29.779500</td>\n",
       "      <td>21.466667</td>\n",
       "      <td>1</td>\n",
       "      <td>1</td>\n",
       "    </tr>\n",
       "    <tr>\n",
       "      <th>ffa96a4f57</th>\n",
       "      <td>126</td>\n",
       "      <td>10</td>\n",
       "      <td>4671.37</td>\n",
       "      <td>26</td>\n",
       "      <td>311.424667</td>\n",
       "      <td>2.888889</td>\n",
       "      <td>1</td>\n",
       "      <td>1</td>\n",
       "    </tr>\n",
       "    <tr>\n",
       "      <th>ffc46fd720</th>\n",
       "      <td>205</td>\n",
       "      <td>6</td>\n",
       "      <td>200.58</td>\n",
       "      <td>70</td>\n",
       "      <td>33.430000</td>\n",
       "      <td>14.000000</td>\n",
       "      <td>1</td>\n",
       "      <td>1</td>\n",
       "    </tr>\n",
       "    <tr>\n",
       "      <th>ffd3e45675</th>\n",
       "      <td>500</td>\n",
       "      <td>5</td>\n",
       "      <td>726.26</td>\n",
       "      <td>23</td>\n",
       "      <td>145.252000</td>\n",
       "      <td>5.750000</td>\n",
       "      <td>1</td>\n",
       "      <td>1</td>\n",
       "    </tr>\n",
       "    <tr>\n",
       "      <th>ffe1f6b51a</th>\n",
       "      <td>315</td>\n",
       "      <td>47</td>\n",
       "      <td>2816.16</td>\n",
       "      <td>260</td>\n",
       "      <td>53.135094</td>\n",
       "      <td>5.652174</td>\n",
       "      <td>1</td>\n",
       "      <td>1</td>\n",
       "    </tr>\n",
       "  </tbody>\n",
       "</table>\n",
       "<p>2198 rows × 8 columns</p>\n",
       "</div>"
      ],
      "text/plain": [
       "            Recency  Frequency  Monetory  date       AvgUP  GapbwOrders  \\\n",
       "merchant                                                                  \n",
       "0026f256ac      472          8   2508.78    89  313.597500    12.714286   \n",
       "0042aadfdf      200         54   8069.78   105   56.040139     1.981132   \n",
       "004a994585       70         14   3715.72   195  265.408571    15.000000   \n",
       "004d02cb10      423         23  13422.72   134  432.990968     6.090909   \n",
       "0082de98e9      168          9    965.51    26   53.639444     3.250000   \n",
       "...             ...        ...       ...   ...         ...          ...   \n",
       "ff8f964b25      225         16    595.59   322   29.779500    21.466667   \n",
       "ffa96a4f57      126         10   4671.37    26  311.424667     2.888889   \n",
       "ffc46fd720      205          6    200.58    70   33.430000    14.000000   \n",
       "ffd3e45675      500          5    726.26    23  145.252000     5.750000   \n",
       "ffe1f6b51a      315         47   2816.16   260   53.135094     5.652174   \n",
       "\n",
       "            Cluster  churn  \n",
       "merchant                    \n",
       "0026f256ac        1      1  \n",
       "0042aadfdf        1      1  \n",
       "004a994585        1      1  \n",
       "004d02cb10        1      1  \n",
       "0082de98e9        1      1  \n",
       "...             ...    ...  \n",
       "ff8f964b25        1      1  \n",
       "ffa96a4f57        1      1  \n",
       "ffc46fd720        1      1  \n",
       "ffd3e45675        1      1  \n",
       "ffe1f6b51a        1      1  \n",
       "\n",
       "[2198 rows x 8 columns]"
      ]
     },
     "execution_count": 482,
     "metadata": {},
     "output_type": "execute_result"
    }
   ],
   "source": [
    "model_df=KMeans_out_df.loc[(KMeans_out_df['Cluster']==1) & (KMeans_out_df['Recency']>60)& (KMeans_out_df['GapbwOrders']<30) & (KMeans_out_df['Frequency']>4)]\n",
    "model_df['churn']=1\n",
    "model_df"
   ]
  },
  {
   "cell_type": "markdown",
   "id": "34e42793",
   "metadata": {},
   "source": [
    "For cluster 1, if the merchant has  made any transaction in recent 360 days and merchants who have made atleast 3 transactions, then we will tag the merchant to be not churned."
   ]
  },
  {
   "cell_type": "code",
   "execution_count": 459,
   "id": "305d54ba",
   "metadata": {
    "scrolled": true
   },
   "outputs": [
    {
     "name": "stderr",
     "output_type": "stream",
     "text": [
      "C:\\Users\\apoor\\AppData\\Local\\Temp/ipykernel_15940/3543603398.py:2: SettingWithCopyWarning: \n",
      "A value is trying to be set on a copy of a slice from a DataFrame.\n",
      "Try using .loc[row_indexer,col_indexer] = value instead\n",
      "\n",
      "See the caveats in the documentation: https://pandas.pydata.org/pandas-docs/stable/user_guide/indexing.html#returning-a-view-versus-a-copy\n",
      "  clust1_nc['churn']=0\n"
     ]
    },
    {
     "data": {
      "text/html": [
       "<div>\n",
       "<style scoped>\n",
       "    .dataframe tbody tr th:only-of-type {\n",
       "        vertical-align: middle;\n",
       "    }\n",
       "\n",
       "    .dataframe tbody tr th {\n",
       "        vertical-align: top;\n",
       "    }\n",
       "\n",
       "    .dataframe thead th {\n",
       "        text-align: right;\n",
       "    }\n",
       "</style>\n",
       "<table border=\"1\" class=\"dataframe\">\n",
       "  <thead>\n",
       "    <tr style=\"text-align: right;\">\n",
       "      <th></th>\n",
       "      <th>Recency</th>\n",
       "      <th>Frequency</th>\n",
       "      <th>Monetory</th>\n",
       "      <th>date</th>\n",
       "      <th>AvgUP</th>\n",
       "      <th>GapbwOrders</th>\n",
       "      <th>Cluster</th>\n",
       "      <th>churn</th>\n",
       "    </tr>\n",
       "    <tr>\n",
       "      <th>merchant</th>\n",
       "      <th></th>\n",
       "      <th></th>\n",
       "      <th></th>\n",
       "      <th></th>\n",
       "      <th></th>\n",
       "      <th></th>\n",
       "      <th></th>\n",
       "      <th></th>\n",
       "    </tr>\n",
       "  </thead>\n",
       "  <tbody>\n",
       "    <tr>\n",
       "      <th>003d24c5d3</th>\n",
       "      <td>22</td>\n",
       "      <td>5</td>\n",
       "      <td>677.01</td>\n",
       "      <td>140</td>\n",
       "      <td>84.626250</td>\n",
       "      <td>35.000000</td>\n",
       "      <td>1</td>\n",
       "      <td>0</td>\n",
       "    </tr>\n",
       "    <tr>\n",
       "      <th>003d5fe4f1</th>\n",
       "      <td>6</td>\n",
       "      <td>9</td>\n",
       "      <td>1033.65</td>\n",
       "      <td>110</td>\n",
       "      <td>114.850000</td>\n",
       "      <td>13.750000</td>\n",
       "      <td>1</td>\n",
       "      <td>0</td>\n",
       "    </tr>\n",
       "    <tr>\n",
       "      <th>0063ff0c6b</th>\n",
       "      <td>41</td>\n",
       "      <td>13</td>\n",
       "      <td>10961.74</td>\n",
       "      <td>479</td>\n",
       "      <td>391.490714</td>\n",
       "      <td>39.916667</td>\n",
       "      <td>1</td>\n",
       "      <td>0</td>\n",
       "    </tr>\n",
       "    <tr>\n",
       "      <th>008a9c02f1</th>\n",
       "      <td>26</td>\n",
       "      <td>6</td>\n",
       "      <td>14811.02</td>\n",
       "      <td>124</td>\n",
       "      <td>2468.503333</td>\n",
       "      <td>24.800000</td>\n",
       "      <td>1</td>\n",
       "      <td>0</td>\n",
       "    </tr>\n",
       "    <tr>\n",
       "      <th>008c7ea5b2</th>\n",
       "      <td>2</td>\n",
       "      <td>44</td>\n",
       "      <td>4619.77</td>\n",
       "      <td>295</td>\n",
       "      <td>94.281020</td>\n",
       "      <td>6.860465</td>\n",
       "      <td>1</td>\n",
       "      <td>0</td>\n",
       "    </tr>\n",
       "    <tr>\n",
       "      <th>...</th>\n",
       "      <td>...</td>\n",
       "      <td>...</td>\n",
       "      <td>...</td>\n",
       "      <td>...</td>\n",
       "      <td>...</td>\n",
       "      <td>...</td>\n",
       "      <td>...</td>\n",
       "      <td>...</td>\n",
       "    </tr>\n",
       "    <tr>\n",
       "      <th>ff9a41fb99</th>\n",
       "      <td>41</td>\n",
       "      <td>5</td>\n",
       "      <td>411.82</td>\n",
       "      <td>48</td>\n",
       "      <td>82.364000</td>\n",
       "      <td>12.000000</td>\n",
       "      <td>1</td>\n",
       "      <td>0</td>\n",
       "    </tr>\n",
       "    <tr>\n",
       "      <th>ffab12577a</th>\n",
       "      <td>12</td>\n",
       "      <td>17</td>\n",
       "      <td>4371.43</td>\n",
       "      <td>288</td>\n",
       "      <td>230.075263</td>\n",
       "      <td>18.000000</td>\n",
       "      <td>1</td>\n",
       "      <td>0</td>\n",
       "    </tr>\n",
       "    <tr>\n",
       "      <th>ffc99ae470</th>\n",
       "      <td>5</td>\n",
       "      <td>26</td>\n",
       "      <td>8829.08</td>\n",
       "      <td>364</td>\n",
       "      <td>339.580000</td>\n",
       "      <td>14.560000</td>\n",
       "      <td>1</td>\n",
       "      <td>0</td>\n",
       "    </tr>\n",
       "    <tr>\n",
       "      <th>ffd3284f86</th>\n",
       "      <td>1</td>\n",
       "      <td>6</td>\n",
       "      <td>805.86</td>\n",
       "      <td>13</td>\n",
       "      <td>80.586000</td>\n",
       "      <td>2.600000</td>\n",
       "      <td>1</td>\n",
       "      <td>0</td>\n",
       "    </tr>\n",
       "    <tr>\n",
       "      <th>fff1754102</th>\n",
       "      <td>6</td>\n",
       "      <td>20</td>\n",
       "      <td>5336.95</td>\n",
       "      <td>504</td>\n",
       "      <td>116.020652</td>\n",
       "      <td>26.526316</td>\n",
       "      <td>1</td>\n",
       "      <td>0</td>\n",
       "    </tr>\n",
       "  </tbody>\n",
       "</table>\n",
       "<p>3539 rows × 8 columns</p>\n",
       "</div>"
      ],
      "text/plain": [
       "            Recency  Frequency  Monetory  date        AvgUP  GapbwOrders  \\\n",
       "merchant                                                                   \n",
       "003d24c5d3       22          5    677.01   140    84.626250    35.000000   \n",
       "003d5fe4f1        6          9   1033.65   110   114.850000    13.750000   \n",
       "0063ff0c6b       41         13  10961.74   479   391.490714    39.916667   \n",
       "008a9c02f1       26          6  14811.02   124  2468.503333    24.800000   \n",
       "008c7ea5b2        2         44   4619.77   295    94.281020     6.860465   \n",
       "...             ...        ...       ...   ...          ...          ...   \n",
       "ff9a41fb99       41          5    411.82    48    82.364000    12.000000   \n",
       "ffab12577a       12         17   4371.43   288   230.075263    18.000000   \n",
       "ffc99ae470        5         26   8829.08   364   339.580000    14.560000   \n",
       "ffd3284f86        1          6    805.86    13    80.586000     2.600000   \n",
       "fff1754102        6         20   5336.95   504   116.020652    26.526316   \n",
       "\n",
       "            Cluster  churn  \n",
       "merchant                    \n",
       "003d24c5d3        1      0  \n",
       "003d5fe4f1        1      0  \n",
       "0063ff0c6b        1      0  \n",
       "008a9c02f1        1      0  \n",
       "008c7ea5b2        1      0  \n",
       "...             ...    ...  \n",
       "ff9a41fb99        1      0  \n",
       "ffab12577a        1      0  \n",
       "ffc99ae470        1      0  \n",
       "ffd3284f86        1      0  \n",
       "fff1754102        1      0  \n",
       "\n",
       "[3539 rows x 8 columns]"
      ]
     },
     "execution_count": 459,
     "metadata": {},
     "output_type": "execute_result"
    }
   ],
   "source": [
    "clust1_nc=KMeans_out_df.loc[(KMeans_out_df['Cluster']==1) & (KMeans_out_df['Recency']<=60)& (KMeans_out_df['Frequency']>4)]\n",
    "clust1_nc['churn']=0\n",
    "clust1_nc"
   ]
  },
  {
   "cell_type": "markdown",
   "id": "4d36fe26",
   "metadata": {},
   "source": [
    "Checking the recency trend for cluster 2"
   ]
  },
  {
   "cell_type": "code",
   "execution_count": 408,
   "id": "ee723e14",
   "metadata": {},
   "outputs": [
    {
     "data": {
      "text/plain": [
       "<AxesSubplot:xlabel='Recency'>"
      ]
     },
     "execution_count": 408,
     "metadata": {},
     "output_type": "execute_result"
    },
    {
     "data": {
      "image/png": "[encoded data removed]",
      "text/plain": [
       "<Figure size 720x360 with 1 Axes>"
      ]
     },
     "metadata": {
      "needs_background": "light"
     },
     "output_type": "display_data"
    }
   ],
   "source": [
    "KMeans_out_df.loc[KMeans_out_df['Cluster']==2].groupby(['Recency'])['Recency'].count().plot(kind = 'line')"
   ]
  },
  {
   "cell_type": "markdown",
   "id": "71517425",
   "metadata": {},
   "source": [
    "Since, the mean of gap of consecutive orders for cluster 1 is aorund 7 days. We can say that merchants with recency <7 can make transaction in upcoming days, so we can remove them.\n",
    "\n",
    "Checking the frequency trend for cluster 2"
   ]
  },
  {
   "cell_type": "code",
   "execution_count": 412,
   "id": "74e58e69",
   "metadata": {},
   "outputs": [
    {
     "data": {
      "text/plain": [
       "<AxesSubplot:xlabel='Frequency'>"
      ]
     },
     "execution_count": 412,
     "metadata": {},
     "output_type": "execute_result"
    },
    {
     "data": {
      "image/png": "[encoded data removed]",
      "text/plain": [
       "<Figure size 720x360 with 1 Axes>"
      ]
     },
     "metadata": {
      "needs_background": "light"
     },
     "output_type": "display_data"
    }
   ],
   "source": [
    "KMeans_out_df.loc[(KMeans_out_df['Cluster']==2) & (KMeans_out_df['Recency']>7)].groupby(['Frequency'])['Frequency'].count().plot(kind = 'line')"
   ]
  },
  {
   "cell_type": "markdown",
   "id": "362651db",
   "metadata": {},
   "source": [
    "Checking the Gap between orders trend for cluster 2"
   ]
  },
  {
   "cell_type": "code",
   "execution_count": 415,
   "id": "f16bb722",
   "metadata": {},
   "outputs": [
    {
     "data": {
      "text/plain": [
       "<AxesSubplot:xlabel='GapbwOrders'>"
      ]
     },
     "execution_count": 415,
     "metadata": {},
     "output_type": "execute_result"
    },
    {
     "data": {
      "image/png": "[encoded data removed]",
      "text/plain": [
       "<Figure size 720x360 with 1 Axes>"
      ]
     },
     "metadata": {
      "needs_background": "light"
     },
     "output_type": "display_data"
    }
   ],
   "source": [
    "KMeans_out_df.loc[(KMeans_out_df['Cluster']==2) & (KMeans_out_df['Recency']>7)].groupby(['GapbwOrders'])['GapbwOrders'].count().plot(kind = 'line')"
   ]
  },
  {
   "cell_type": "markdown",
   "id": "16f910cc",
   "metadata": {},
   "source": [
    "For cluster 2, if the merchant has not made any transaction in recent 30 days, if his mean gap between orders is less than 7 days (intution: if merchant stopped making transaction with stripe, his recency will increase and since he was an active customer before his reecency will be more than the avg gap between the orders) and merchants who have made atleast 3 transactions, then we will tag the merchant to be churned."
   ]
  },
  {
   "cell_type": "code",
   "execution_count": 460,
   "id": "e5ba3942",
   "metadata": {
    "scrolled": true
   },
   "outputs": [
    {
     "name": "stderr",
     "output_type": "stream",
     "text": [
      "C:\\Users\\apoor\\AppData\\Local\\Temp/ipykernel_15940/1171292380.py:2: SettingWithCopyWarning: \n",
      "A value is trying to be set on a copy of a slice from a DataFrame.\n",
      "Try using .loc[row_indexer,col_indexer] = value instead\n",
      "\n",
      "See the caveats in the documentation: https://pandas.pydata.org/pandas-docs/stable/user_guide/indexing.html#returning-a-view-versus-a-copy\n",
      "  clust2_c['churn']=1\n"
     ]
    },
    {
     "data": {
      "text/html": [
       "<div>\n",
       "<style scoped>\n",
       "    .dataframe tbody tr th:only-of-type {\n",
       "        vertical-align: middle;\n",
       "    }\n",
       "\n",
       "    .dataframe tbody tr th {\n",
       "        vertical-align: top;\n",
       "    }\n",
       "\n",
       "    .dataframe thead th {\n",
       "        text-align: right;\n",
       "    }\n",
       "</style>\n",
       "<table border=\"1\" class=\"dataframe\">\n",
       "  <thead>\n",
       "    <tr style=\"text-align: right;\">\n",
       "      <th></th>\n",
       "      <th>Recency</th>\n",
       "      <th>Frequency</th>\n",
       "      <th>Monetory</th>\n",
       "      <th>date</th>\n",
       "      <th>AvgUP</th>\n",
       "      <th>GapbwOrders</th>\n",
       "      <th>Cluster</th>\n",
       "      <th>churn</th>\n",
       "    </tr>\n",
       "    <tr>\n",
       "      <th>merchant</th>\n",
       "      <th></th>\n",
       "      <th></th>\n",
       "      <th></th>\n",
       "      <th></th>\n",
       "      <th></th>\n",
       "      <th></th>\n",
       "      <th></th>\n",
       "      <th></th>\n",
       "    </tr>\n",
       "  </thead>\n",
       "  <tbody>\n",
       "    <tr>\n",
       "      <th>005e8bb6fb</th>\n",
       "      <td>72</td>\n",
       "      <td>100</td>\n",
       "      <td>100000.00</td>\n",
       "      <td>518</td>\n",
       "      <td>205.009687</td>\n",
       "      <td>1.654952</td>\n",
       "      <td>2</td>\n",
       "      <td>1</td>\n",
       "    </tr>\n",
       "    <tr>\n",
       "      <th>010749c732</th>\n",
       "      <td>324</td>\n",
       "      <td>100</td>\n",
       "      <td>25060.03</td>\n",
       "      <td>321</td>\n",
       "      <td>67.185067</td>\n",
       "      <td>1.605000</td>\n",
       "      <td>2</td>\n",
       "      <td>1</td>\n",
       "    </tr>\n",
       "    <tr>\n",
       "      <th>013a169f1e</th>\n",
       "      <td>64</td>\n",
       "      <td>100</td>\n",
       "      <td>62074.25</td>\n",
       "      <td>319</td>\n",
       "      <td>61.888584</td>\n",
       "      <td>1.910180</td>\n",
       "      <td>2</td>\n",
       "      <td>1</td>\n",
       "    </tr>\n",
       "    <tr>\n",
       "      <th>0221b4736b</th>\n",
       "      <td>49</td>\n",
       "      <td>100</td>\n",
       "      <td>100000.00</td>\n",
       "      <td>468</td>\n",
       "      <td>49.763995</td>\n",
       "      <td>2.529730</td>\n",
       "      <td>2</td>\n",
       "      <td>1</td>\n",
       "    </tr>\n",
       "    <tr>\n",
       "      <th>0294660a13</th>\n",
       "      <td>226</td>\n",
       "      <td>6</td>\n",
       "      <td>100000.00</td>\n",
       "      <td>16</td>\n",
       "      <td>1559.674675</td>\n",
       "      <td>3.200000</td>\n",
       "      <td>2</td>\n",
       "      <td>1</td>\n",
       "    </tr>\n",
       "    <tr>\n",
       "      <th>...</th>\n",
       "      <td>...</td>\n",
       "      <td>...</td>\n",
       "      <td>...</td>\n",
       "      <td>...</td>\n",
       "      <td>...</td>\n",
       "      <td>...</td>\n",
       "      <td>...</td>\n",
       "      <td>...</td>\n",
       "    </tr>\n",
       "    <tr>\n",
       "      <th>fa59864e12</th>\n",
       "      <td>254</td>\n",
       "      <td>100</td>\n",
       "      <td>24041.03</td>\n",
       "      <td>293</td>\n",
       "      <td>84.059545</td>\n",
       "      <td>2.421488</td>\n",
       "      <td>2</td>\n",
       "      <td>1</td>\n",
       "    </tr>\n",
       "    <tr>\n",
       "      <th>fa7d245ebd</th>\n",
       "      <td>414</td>\n",
       "      <td>7</td>\n",
       "      <td>100000.00</td>\n",
       "      <td>7</td>\n",
       "      <td>302.762811</td>\n",
       "      <td>1.166667</td>\n",
       "      <td>2</td>\n",
       "      <td>1</td>\n",
       "    </tr>\n",
       "    <tr>\n",
       "      <th>fb756b5acc</th>\n",
       "      <td>154</td>\n",
       "      <td>100</td>\n",
       "      <td>7120.35</td>\n",
       "      <td>520</td>\n",
       "      <td>45.643269</td>\n",
       "      <td>4.227642</td>\n",
       "      <td>2</td>\n",
       "      <td>1</td>\n",
       "    </tr>\n",
       "    <tr>\n",
       "      <th>fcd37b1561</th>\n",
       "      <td>70</td>\n",
       "      <td>100</td>\n",
       "      <td>51270.79</td>\n",
       "      <td>319</td>\n",
       "      <td>207.574049</td>\n",
       "      <td>2.416667</td>\n",
       "      <td>2</td>\n",
       "      <td>1</td>\n",
       "    </tr>\n",
       "    <tr>\n",
       "      <th>ffe26b900d</th>\n",
       "      <td>40</td>\n",
       "      <td>66</td>\n",
       "      <td>9591.13</td>\n",
       "      <td>334</td>\n",
       "      <td>118.409012</td>\n",
       "      <td>5.138462</td>\n",
       "      <td>2</td>\n",
       "      <td>1</td>\n",
       "    </tr>\n",
       "  </tbody>\n",
       "</table>\n",
       "<p>211 rows × 8 columns</p>\n",
       "</div>"
      ],
      "text/plain": [
       "            Recency  Frequency   Monetory  date        AvgUP  GapbwOrders  \\\n",
       "merchant                                                                    \n",
       "005e8bb6fb       72        100  100000.00   518   205.009687     1.654952   \n",
       "010749c732      324        100   25060.03   321    67.185067     1.605000   \n",
       "013a169f1e       64        100   62074.25   319    61.888584     1.910180   \n",
       "0221b4736b       49        100  100000.00   468    49.763995     2.529730   \n",
       "0294660a13      226          6  100000.00    16  1559.674675     3.200000   \n",
       "...             ...        ...        ...   ...          ...          ...   \n",
       "fa59864e12      254        100   24041.03   293    84.059545     2.421488   \n",
       "fa7d245ebd      414          7  100000.00     7   302.762811     1.166667   \n",
       "fb756b5acc      154        100    7120.35   520    45.643269     4.227642   \n",
       "fcd37b1561       70        100   51270.79   319   207.574049     2.416667   \n",
       "ffe26b900d       40         66    9591.13   334   118.409012     5.138462   \n",
       "\n",
       "            Cluster  churn  \n",
       "merchant                    \n",
       "005e8bb6fb        2      1  \n",
       "010749c732        2      1  \n",
       "013a169f1e        2      1  \n",
       "0221b4736b        2      1  \n",
       "0294660a13        2      1  \n",
       "...             ...    ...  \n",
       "fa59864e12        2      1  \n",
       "fa7d245ebd        2      1  \n",
       "fb756b5acc        2      1  \n",
       "fcd37b1561        2      1  \n",
       "ffe26b900d        2      1  \n",
       "\n",
       "[211 rows x 8 columns]"
      ]
     },
     "execution_count": 460,
     "metadata": {},
     "output_type": "execute_result"
    }
   ],
   "source": [
    "clust2_c=KMeans_out_df.loc[(KMeans_out_df['Cluster']==2) & (KMeans_out_df['Recency']>30)& (KMeans_out_df['GapbwOrders']<7) & (KMeans_out_df['Frequency']>4)]\n",
    "clust2_c['churn']=1\n",
    "clust2_c"
   ]
  },
  {
   "cell_type": "markdown",
   "id": "b0468e1c",
   "metadata": {},
   "source": [
    "For cluster 2, if the merchant has  made any transaction in recent 30 days and merchants who have made atleast 3 transactions, then we will tag the merchant to be not churned."
   ]
  },
  {
   "cell_type": "code",
   "execution_count": 461,
   "id": "b7d96c42",
   "metadata": {
    "scrolled": true
   },
   "outputs": [
    {
     "name": "stderr",
     "output_type": "stream",
     "text": [
      "C:\\Users\\apoor\\AppData\\Local\\Temp/ipykernel_15940/2656205561.py:2: SettingWithCopyWarning: \n",
      "A value is trying to be set on a copy of a slice from a DataFrame.\n",
      "Try using .loc[row_indexer,col_indexer] = value instead\n",
      "\n",
      "See the caveats in the documentation: https://pandas.pydata.org/pandas-docs/stable/user_guide/indexing.html#returning-a-view-versus-a-copy\n",
      "  clust2_nc['churn']=0\n"
     ]
    },
    {
     "data": {
      "text/html": [
       "<div>\n",
       "<style scoped>\n",
       "    .dataframe tbody tr th:only-of-type {\n",
       "        vertical-align: middle;\n",
       "    }\n",
       "\n",
       "    .dataframe tbody tr th {\n",
       "        vertical-align: top;\n",
       "    }\n",
       "\n",
       "    .dataframe thead th {\n",
       "        text-align: right;\n",
       "    }\n",
       "</style>\n",
       "<table border=\"1\" class=\"dataframe\">\n",
       "  <thead>\n",
       "    <tr style=\"text-align: right;\">\n",
       "      <th></th>\n",
       "      <th>Recency</th>\n",
       "      <th>Frequency</th>\n",
       "      <th>Monetory</th>\n",
       "      <th>date</th>\n",
       "      <th>AvgUP</th>\n",
       "      <th>GapbwOrders</th>\n",
       "      <th>Cluster</th>\n",
       "      <th>churn</th>\n",
       "    </tr>\n",
       "    <tr>\n",
       "      <th>merchant</th>\n",
       "      <th></th>\n",
       "      <th></th>\n",
       "      <th></th>\n",
       "      <th></th>\n",
       "      <th></th>\n",
       "      <th></th>\n",
       "      <th></th>\n",
       "      <th></th>\n",
       "    </tr>\n",
       "  </thead>\n",
       "  <tbody>\n",
       "    <tr>\n",
       "      <th>000ed1585f</th>\n",
       "      <td>25</td>\n",
       "      <td>58</td>\n",
       "      <td>16472.67</td>\n",
       "      <td>656</td>\n",
       "      <td>265.688226</td>\n",
       "      <td>11.508772</td>\n",
       "      <td>2</td>\n",
       "      <td>0</td>\n",
       "    </tr>\n",
       "    <tr>\n",
       "      <th>000f8c3297</th>\n",
       "      <td>1</td>\n",
       "      <td>100</td>\n",
       "      <td>34551.91</td>\n",
       "      <td>457</td>\n",
       "      <td>119.144517</td>\n",
       "      <td>3.108844</td>\n",
       "      <td>2</td>\n",
       "      <td>0</td>\n",
       "    </tr>\n",
       "    <tr>\n",
       "      <th>002a66c0e1</th>\n",
       "      <td>3</td>\n",
       "      <td>74</td>\n",
       "      <td>35551.51</td>\n",
       "      <td>350</td>\n",
       "      <td>348.544216</td>\n",
       "      <td>4.794521</td>\n",
       "      <td>2</td>\n",
       "      <td>0</td>\n",
       "    </tr>\n",
       "    <tr>\n",
       "      <th>00575c7901</th>\n",
       "      <td>0</td>\n",
       "      <td>100</td>\n",
       "      <td>100000.00</td>\n",
       "      <td>362</td>\n",
       "      <td>68.900332</td>\n",
       "      <td>1.000000</td>\n",
       "      <td>2</td>\n",
       "      <td>0</td>\n",
       "    </tr>\n",
       "    <tr>\n",
       "      <th>008d1671e6</th>\n",
       "      <td>10</td>\n",
       "      <td>65</td>\n",
       "      <td>27363.17</td>\n",
       "      <td>401</td>\n",
       "      <td>307.451348</td>\n",
       "      <td>6.265625</td>\n",
       "      <td>2</td>\n",
       "      <td>0</td>\n",
       "    </tr>\n",
       "    <tr>\n",
       "      <th>...</th>\n",
       "      <td>...</td>\n",
       "      <td>...</td>\n",
       "      <td>...</td>\n",
       "      <td>...</td>\n",
       "      <td>...</td>\n",
       "      <td>...</td>\n",
       "      <td>...</td>\n",
       "      <td>...</td>\n",
       "    </tr>\n",
       "    <tr>\n",
       "      <th>ff66c68d69</th>\n",
       "      <td>0</td>\n",
       "      <td>100</td>\n",
       "      <td>65155.52</td>\n",
       "      <td>426</td>\n",
       "      <td>298.878532</td>\n",
       "      <td>3.021277</td>\n",
       "      <td>2</td>\n",
       "      <td>0</td>\n",
       "    </tr>\n",
       "    <tr>\n",
       "      <th>ff7de3999b</th>\n",
       "      <td>26</td>\n",
       "      <td>10</td>\n",
       "      <td>41857.52</td>\n",
       "      <td>427</td>\n",
       "      <td>4185.752000</td>\n",
       "      <td>47.444444</td>\n",
       "      <td>2</td>\n",
       "      <td>0</td>\n",
       "    </tr>\n",
       "    <tr>\n",
       "      <th>ff80602381</th>\n",
       "      <td>1</td>\n",
       "      <td>64</td>\n",
       "      <td>36606.09</td>\n",
       "      <td>182</td>\n",
       "      <td>197.870757</td>\n",
       "      <td>2.888889</td>\n",
       "      <td>2</td>\n",
       "      <td>0</td>\n",
       "    </tr>\n",
       "    <tr>\n",
       "      <th>ff86f631bd</th>\n",
       "      <td>0</td>\n",
       "      <td>100</td>\n",
       "      <td>100000.00</td>\n",
       "      <td>312</td>\n",
       "      <td>59.278602</td>\n",
       "      <td>1.000000</td>\n",
       "      <td>2</td>\n",
       "      <td>0</td>\n",
       "    </tr>\n",
       "    <tr>\n",
       "      <th>ffb94e1865</th>\n",
       "      <td>0</td>\n",
       "      <td>100</td>\n",
       "      <td>100000.00</td>\n",
       "      <td>387</td>\n",
       "      <td>81.407068</td>\n",
       "      <td>1.362676</td>\n",
       "      <td>2</td>\n",
       "      <td>0</td>\n",
       "    </tr>\n",
       "  </tbody>\n",
       "</table>\n",
       "<p>2177 rows × 8 columns</p>\n",
       "</div>"
      ],
      "text/plain": [
       "            Recency  Frequency   Monetory  date        AvgUP  GapbwOrders  \\\n",
       "merchant                                                                    \n",
       "000ed1585f       25         58   16472.67   656   265.688226    11.508772   \n",
       "000f8c3297        1        100   34551.91   457   119.144517     3.108844   \n",
       "002a66c0e1        3         74   35551.51   350   348.544216     4.794521   \n",
       "00575c7901        0        100  100000.00   362    68.900332     1.000000   \n",
       "008d1671e6       10         65   27363.17   401   307.451348     6.265625   \n",
       "...             ...        ...        ...   ...          ...          ...   \n",
       "ff66c68d69        0        100   65155.52   426   298.878532     3.021277   \n",
       "ff7de3999b       26         10   41857.52   427  4185.752000    47.444444   \n",
       "ff80602381        1         64   36606.09   182   197.870757     2.888889   \n",
       "ff86f631bd        0        100  100000.00   312    59.278602     1.000000   \n",
       "ffb94e1865        0        100  100000.00   387    81.407068     1.362676   \n",
       "\n",
       "            Cluster  churn  \n",
       "merchant                    \n",
       "000ed1585f        2      0  \n",
       "000f8c3297        2      0  \n",
       "002a66c0e1        2      0  \n",
       "00575c7901        2      0  \n",
       "008d1671e6        2      0  \n",
       "...             ...    ...  \n",
       "ff66c68d69        2      0  \n",
       "ff7de3999b        2      0  \n",
       "ff80602381        2      0  \n",
       "ff86f631bd        2      0  \n",
       "ffb94e1865        2      0  \n",
       "\n",
       "[2177 rows x 8 columns]"
      ]
     },
     "execution_count": 461,
     "metadata": {},
     "output_type": "execute_result"
    }
   ],
   "source": [
    "clust2_nc=KMeans_out_df.loc[(KMeans_out_df['Cluster']==2) & (KMeans_out_df['Recency']<=30)& (KMeans_out_df['Frequency']>4)]\n",
    "clust2_nc['churn']=0\n",
    "clust2_nc"
   ]
  },
  {
   "cell_type": "markdown",
   "id": "0512aef6",
   "metadata": {},
   "source": [
    "Merging all created datasets"
   ]
  },
  {
   "cell_type": "code",
   "execution_count": 462,
   "id": "fe099308",
   "metadata": {
    "scrolled": true
   },
   "outputs": [
    {
     "data": {
      "text/html": [
       "<div>\n",
       "<style scoped>\n",
       "    .dataframe tbody tr th:only-of-type {\n",
       "        vertical-align: middle;\n",
       "    }\n",
       "\n",
       "    .dataframe tbody tr th {\n",
       "        vertical-align: top;\n",
       "    }\n",
       "\n",
       "    .dataframe thead th {\n",
       "        text-align: right;\n",
       "    }\n",
       "</style>\n",
       "<table border=\"1\" class=\"dataframe\">\n",
       "  <thead>\n",
       "    <tr style=\"text-align: right;\">\n",
       "      <th></th>\n",
       "      <th>Recency</th>\n",
       "      <th>Frequency</th>\n",
       "      <th>Monetory</th>\n",
       "      <th>date</th>\n",
       "      <th>AvgUP</th>\n",
       "      <th>GapbwOrders</th>\n",
       "      <th>Cluster</th>\n",
       "      <th>churn</th>\n",
       "    </tr>\n",
       "  </thead>\n",
       "  <tbody>\n",
       "    <tr>\n",
       "      <th>0</th>\n",
       "      <td>472</td>\n",
       "      <td>8</td>\n",
       "      <td>2508.78</td>\n",
       "      <td>89</td>\n",
       "      <td>313.597500</td>\n",
       "      <td>12.714286</td>\n",
       "      <td>1</td>\n",
       "      <td>1</td>\n",
       "    </tr>\n",
       "    <tr>\n",
       "      <th>1</th>\n",
       "      <td>200</td>\n",
       "      <td>54</td>\n",
       "      <td>8069.78</td>\n",
       "      <td>105</td>\n",
       "      <td>56.040139</td>\n",
       "      <td>1.981132</td>\n",
       "      <td>1</td>\n",
       "      <td>1</td>\n",
       "    </tr>\n",
       "    <tr>\n",
       "      <th>2</th>\n",
       "      <td>70</td>\n",
       "      <td>14</td>\n",
       "      <td>3715.72</td>\n",
       "      <td>195</td>\n",
       "      <td>265.408571</td>\n",
       "      <td>15.000000</td>\n",
       "      <td>1</td>\n",
       "      <td>1</td>\n",
       "    </tr>\n",
       "    <tr>\n",
       "      <th>3</th>\n",
       "      <td>423</td>\n",
       "      <td>23</td>\n",
       "      <td>13422.72</td>\n",
       "      <td>134</td>\n",
       "      <td>432.990968</td>\n",
       "      <td>6.090909</td>\n",
       "      <td>1</td>\n",
       "      <td>1</td>\n",
       "    </tr>\n",
       "    <tr>\n",
       "      <th>4</th>\n",
       "      <td>168</td>\n",
       "      <td>9</td>\n",
       "      <td>965.51</td>\n",
       "      <td>26</td>\n",
       "      <td>53.639444</td>\n",
       "      <td>3.250000</td>\n",
       "      <td>1</td>\n",
       "      <td>1</td>\n",
       "    </tr>\n",
       "    <tr>\n",
       "      <th>...</th>\n",
       "      <td>...</td>\n",
       "      <td>...</td>\n",
       "      <td>...</td>\n",
       "      <td>...</td>\n",
       "      <td>...</td>\n",
       "      <td>...</td>\n",
       "      <td>...</td>\n",
       "      <td>...</td>\n",
       "    </tr>\n",
       "    <tr>\n",
       "      <th>8120</th>\n",
       "      <td>0</td>\n",
       "      <td>100</td>\n",
       "      <td>65155.52</td>\n",
       "      <td>426</td>\n",
       "      <td>298.878532</td>\n",
       "      <td>3.021277</td>\n",
       "      <td>2</td>\n",
       "      <td>0</td>\n",
       "    </tr>\n",
       "    <tr>\n",
       "      <th>8121</th>\n",
       "      <td>26</td>\n",
       "      <td>10</td>\n",
       "      <td>41857.52</td>\n",
       "      <td>427</td>\n",
       "      <td>4185.752000</td>\n",
       "      <td>47.444444</td>\n",
       "      <td>2</td>\n",
       "      <td>0</td>\n",
       "    </tr>\n",
       "    <tr>\n",
       "      <th>8122</th>\n",
       "      <td>1</td>\n",
       "      <td>64</td>\n",
       "      <td>36606.09</td>\n",
       "      <td>182</td>\n",
       "      <td>197.870757</td>\n",
       "      <td>2.888889</td>\n",
       "      <td>2</td>\n",
       "      <td>0</td>\n",
       "    </tr>\n",
       "    <tr>\n",
       "      <th>8123</th>\n",
       "      <td>0</td>\n",
       "      <td>100</td>\n",
       "      <td>100000.00</td>\n",
       "      <td>312</td>\n",
       "      <td>59.278602</td>\n",
       "      <td>1.000000</td>\n",
       "      <td>2</td>\n",
       "      <td>0</td>\n",
       "    </tr>\n",
       "    <tr>\n",
       "      <th>8124</th>\n",
       "      <td>0</td>\n",
       "      <td>100</td>\n",
       "      <td>100000.00</td>\n",
       "      <td>387</td>\n",
       "      <td>81.407068</td>\n",
       "      <td>1.362676</td>\n",
       "      <td>2</td>\n",
       "      <td>0</td>\n",
       "    </tr>\n",
       "  </tbody>\n",
       "</table>\n",
       "<p>8125 rows × 8 columns</p>\n",
       "</div>"
      ],
      "text/plain": [
       "      Recency  Frequency   Monetory  date        AvgUP  GapbwOrders  Cluster  \\\n",
       "0         472          8    2508.78    89   313.597500    12.714286        1   \n",
       "1         200         54    8069.78   105    56.040139     1.981132        1   \n",
       "2          70         14    3715.72   195   265.408571    15.000000        1   \n",
       "3         423         23   13422.72   134   432.990968     6.090909        1   \n",
       "4         168          9     965.51    26    53.639444     3.250000        1   \n",
       "...       ...        ...        ...   ...          ...          ...      ...   \n",
       "8120        0        100   65155.52   426   298.878532     3.021277        2   \n",
       "8121       26         10   41857.52   427  4185.752000    47.444444        2   \n",
       "8122        1         64   36606.09   182   197.870757     2.888889        2   \n",
       "8123        0        100  100000.00   312    59.278602     1.000000        2   \n",
       "8124        0        100  100000.00   387    81.407068     1.362676        2   \n",
       "\n",
       "      churn  \n",
       "0         1  \n",
       "1         1  \n",
       "2         1  \n",
       "3         1  \n",
       "4         1  \n",
       "...     ...  \n",
       "8120      0  \n",
       "8121      0  \n",
       "8122      0  \n",
       "8123      0  \n",
       "8124      0  \n",
       "\n",
       "[8125 rows x 8 columns]"
      ]
     },
     "execution_count": 462,
     "metadata": {},
     "output_type": "execute_result"
    }
   ],
   "source": [
    "final_model_df=pd.concat([model_df,clust1_nc,clust2_c, clust2_nc],ignore_index=True)\n",
    "final_model_df"
   ]
  },
  {
   "cell_type": "markdown",
   "id": "89015e11",
   "metadata": {},
   "source": [
    "To see the frequency trend for non-churned merchants"
   ]
  },
  {
   "cell_type": "code",
   "execution_count": 513,
   "id": "52451f9f",
   "metadata": {
    "scrolled": true
   },
   "outputs": [
    {
     "data": {
      "text/plain": [
       "<AxesSubplot:xlabel='Frequency'>"
      ]
     },
     "execution_count": 513,
     "metadata": {},
     "output_type": "execute_result"
    },
    {
     "data": {
      "image/png": "[encoded data removed]",
      "text/plain": [
       "<Figure size 720x360 with 1 Axes>"
      ]
     },
     "metadata": {
      "needs_background": "light"
     },
     "output_type": "display_data"
    }
   ],
   "source": [
    "final_model_df.loc[final_model_df['churn'] == 0].groupby(['Frequency'])['Frequency'].count().plot(kind = 'line')"
   ]
  },
  {
   "cell_type": "markdown",
   "id": "d711c10d",
   "metadata": {},
   "source": [
    "To see the frequency trend for churned merchants"
   ]
  },
  {
   "cell_type": "code",
   "execution_count": 514,
   "id": "246c79c1",
   "metadata": {
    "scrolled": true
   },
   "outputs": [
    {
     "data": {
      "text/plain": [
       "<AxesSubplot:xlabel='Frequency'>"
      ]
     },
     "execution_count": 514,
     "metadata": {},
     "output_type": "execute_result"
    },
    {
     "data": {
      "image/png": "[encoded data removed]",
      "text/plain": [
       "<Figure size 720x360 with 1 Axes>"
      ]
     },
     "metadata": {
      "needs_background": "light"
     },
     "output_type": "display_data"
    }
   ],
   "source": [
    "final_model_df.loc[final_model_df['churn'] == 1].groupby(['Frequency'])['Frequency'].count().plot(kind = 'line')"
   ]
  },
  {
   "cell_type": "markdown",
   "id": "8eca6b02",
   "metadata": {},
   "source": [
    "Most of the churned merchants did make the 1-20 transactions in 2 years"
   ]
  },
  {
   "cell_type": "markdown",
   "id": "3d68caec",
   "metadata": {},
   "source": [
    "To see the consecutive transaction gap for churned merchants"
   ]
  },
  {
   "cell_type": "code",
   "execution_count": 516,
   "id": "bbc84305",
   "metadata": {
    "scrolled": true
   },
   "outputs": [
    {
     "data": {
      "text/plain": [
       "<AxesSubplot:xlabel='GapbwOrders'>"
      ]
     },
     "execution_count": 516,
     "metadata": {},
     "output_type": "execute_result"
    },
    {
     "data": {
      "image/png": "[encoded data removed]",
      "text/plain": [
       "<Figure size 720x360 with 1 Axes>"
      ]
     },
     "metadata": {
      "needs_background": "light"
     },
     "output_type": "display_data"
    }
   ],
   "source": [
    "final_model_df.loc[(final_model_df['churn']==1)].groupby(['GapbwOrders'])['GapbwOrders'].count().plot(kind = 'line')"
   ]
  },
  {
   "cell_type": "markdown",
   "id": "36a00187",
   "metadata": {},
   "source": [
    "To see the consecutive transaction gap for non churned merchants"
   ]
  },
  {
   "cell_type": "code",
   "execution_count": 517,
   "id": "433dc1f2",
   "metadata": {
    "scrolled": true
   },
   "outputs": [
    {
     "data": {
      "text/plain": [
       "<AxesSubplot:xlabel='GapbwOrders'>"
      ]
     },
     "execution_count": 517,
     "metadata": {},
     "output_type": "execute_result"
    },
    {
     "data": {
      "image/png": "[encoded data removed]",
      "text/plain": [
       "<Figure size 720x360 with 1 Axes>"
      ]
     },
     "metadata": {
      "needs_background": "light"
     },
     "output_type": "display_data"
    }
   ],
   "source": [
    "final_model_df.loc[(final_model_df['churn']==0)].groupby(['GapbwOrders'])['GapbwOrders'].count().plot(kind = 'line')"
   ]
  },
  {
   "cell_type": "markdown",
   "id": "5ffd6b2b",
   "metadata": {},
   "source": [
    "Most of the churned merchants are uniformly distributed across 0 to 14 consecutive transaction gap while non churned merchants are left skewed from 0 to 25 gap days"
   ]
  },
  {
   "cell_type": "markdown",
   "id": "d30746a1",
   "metadata": {},
   "source": [
    "**Prediction of merchant churn**"
   ]
  },
  {
   "cell_type": "code",
   "execution_count": 463,
   "id": "1c3c0844",
   "metadata": {},
   "outputs": [],
   "source": [
    "def object_to_int(dataframe_series):\n",
    "    if dataframe_series.dtype=='object':\n",
    "        dataframe_series = LabelEncoder().fit_transform(dataframe_series)\n",
    "    return dataframe_series"
   ]
  },
  {
   "cell_type": "code",
   "execution_count": 464,
   "id": "aa8c25a7",
   "metadata": {},
   "outputs": [
    {
     "data": {
      "text/html": [
       "<div>\n",
       "<style scoped>\n",
       "    .dataframe tbody tr th:only-of-type {\n",
       "        vertical-align: middle;\n",
       "    }\n",
       "\n",
       "    .dataframe tbody tr th {\n",
       "        vertical-align: top;\n",
       "    }\n",
       "\n",
       "    .dataframe thead th {\n",
       "        text-align: right;\n",
       "    }\n",
       "</style>\n",
       "<table border=\"1\" class=\"dataframe\">\n",
       "  <thead>\n",
       "    <tr style=\"text-align: right;\">\n",
       "      <th></th>\n",
       "      <th>Recency</th>\n",
       "      <th>Frequency</th>\n",
       "      <th>Monetory</th>\n",
       "      <th>date</th>\n",
       "      <th>AvgUP</th>\n",
       "      <th>GapbwOrders</th>\n",
       "      <th>Cluster</th>\n",
       "      <th>churn</th>\n",
       "    </tr>\n",
       "  </thead>\n",
       "  <tbody>\n",
       "    <tr>\n",
       "      <th>0</th>\n",
       "      <td>472</td>\n",
       "      <td>8</td>\n",
       "      <td>2508.78</td>\n",
       "      <td>89</td>\n",
       "      <td>313.597500</td>\n",
       "      <td>12.714286</td>\n",
       "      <td>1</td>\n",
       "      <td>1</td>\n",
       "    </tr>\n",
       "    <tr>\n",
       "      <th>1</th>\n",
       "      <td>200</td>\n",
       "      <td>54</td>\n",
       "      <td>8069.78</td>\n",
       "      <td>105</td>\n",
       "      <td>56.040139</td>\n",
       "      <td>1.981132</td>\n",
       "      <td>1</td>\n",
       "      <td>1</td>\n",
       "    </tr>\n",
       "    <tr>\n",
       "      <th>2</th>\n",
       "      <td>70</td>\n",
       "      <td>14</td>\n",
       "      <td>3715.72</td>\n",
       "      <td>195</td>\n",
       "      <td>265.408571</td>\n",
       "      <td>15.000000</td>\n",
       "      <td>1</td>\n",
       "      <td>1</td>\n",
       "    </tr>\n",
       "    <tr>\n",
       "      <th>3</th>\n",
       "      <td>423</td>\n",
       "      <td>23</td>\n",
       "      <td>13422.72</td>\n",
       "      <td>134</td>\n",
       "      <td>432.990968</td>\n",
       "      <td>6.090909</td>\n",
       "      <td>1</td>\n",
       "      <td>1</td>\n",
       "    </tr>\n",
       "    <tr>\n",
       "      <th>4</th>\n",
       "      <td>168</td>\n",
       "      <td>9</td>\n",
       "      <td>965.51</td>\n",
       "      <td>26</td>\n",
       "      <td>53.639444</td>\n",
       "      <td>3.250000</td>\n",
       "      <td>1</td>\n",
       "      <td>1</td>\n",
       "    </tr>\n",
       "  </tbody>\n",
       "</table>\n",
       "</div>"
      ],
      "text/plain": [
       "   Recency  Frequency  Monetory  date       AvgUP  GapbwOrders  Cluster  churn\n",
       "0      472          8   2508.78    89  313.597500    12.714286        1      1\n",
       "1      200         54   8069.78   105   56.040139     1.981132        1      1\n",
       "2       70         14   3715.72   195  265.408571    15.000000        1      1\n",
       "3      423         23  13422.72   134  432.990968     6.090909        1      1\n",
       "4      168          9    965.51    26   53.639444     3.250000        1      1"
      ]
     },
     "execution_count": 464,
     "metadata": {},
     "output_type": "execute_result"
    }
   ],
   "source": [
    "df_final = final_model_df.apply(lambda x: object_to_int(x))\n",
    "df_final.head()"
   ]
  },
  {
   "cell_type": "code",
   "execution_count": 465,
   "id": "6cd0f2e1",
   "metadata": {
    "scrolled": true
   },
   "outputs": [
    {
     "data": {
      "text/html": [
       "<div>\n",
       "<style scoped>\n",
       "    .dataframe tbody tr th:only-of-type {\n",
       "        vertical-align: middle;\n",
       "    }\n",
       "\n",
       "    .dataframe tbody tr th {\n",
       "        vertical-align: top;\n",
       "    }\n",
       "\n",
       "    .dataframe thead th {\n",
       "        text-align: right;\n",
       "    }\n",
       "</style>\n",
       "<table border=\"1\" class=\"dataframe\">\n",
       "  <thead>\n",
       "    <tr style=\"text-align: right;\">\n",
       "      <th></th>\n",
       "      <th>Recency</th>\n",
       "      <th>Frequency</th>\n",
       "      <th>Monetory</th>\n",
       "      <th>date</th>\n",
       "      <th>AvgUP</th>\n",
       "      <th>GapbwOrders</th>\n",
       "    </tr>\n",
       "  </thead>\n",
       "  <tbody>\n",
       "    <tr>\n",
       "      <th>0</th>\n",
       "      <td>472</td>\n",
       "      <td>8</td>\n",
       "      <td>2508.78</td>\n",
       "      <td>89</td>\n",
       "      <td>313.597500</td>\n",
       "      <td>12.714286</td>\n",
       "    </tr>\n",
       "    <tr>\n",
       "      <th>1</th>\n",
       "      <td>200</td>\n",
       "      <td>54</td>\n",
       "      <td>8069.78</td>\n",
       "      <td>105</td>\n",
       "      <td>56.040139</td>\n",
       "      <td>1.981132</td>\n",
       "    </tr>\n",
       "    <tr>\n",
       "      <th>2</th>\n",
       "      <td>70</td>\n",
       "      <td>14</td>\n",
       "      <td>3715.72</td>\n",
       "      <td>195</td>\n",
       "      <td>265.408571</td>\n",
       "      <td>15.000000</td>\n",
       "    </tr>\n",
       "    <tr>\n",
       "      <th>3</th>\n",
       "      <td>423</td>\n",
       "      <td>23</td>\n",
       "      <td>13422.72</td>\n",
       "      <td>134</td>\n",
       "      <td>432.990968</td>\n",
       "      <td>6.090909</td>\n",
       "    </tr>\n",
       "    <tr>\n",
       "      <th>4</th>\n",
       "      <td>168</td>\n",
       "      <td>9</td>\n",
       "      <td>965.51</td>\n",
       "      <td>26</td>\n",
       "      <td>53.639444</td>\n",
       "      <td>3.250000</td>\n",
       "    </tr>\n",
       "    <tr>\n",
       "      <th>...</th>\n",
       "      <td>...</td>\n",
       "      <td>...</td>\n",
       "      <td>...</td>\n",
       "      <td>...</td>\n",
       "      <td>...</td>\n",
       "      <td>...</td>\n",
       "    </tr>\n",
       "    <tr>\n",
       "      <th>8120</th>\n",
       "      <td>0</td>\n",
       "      <td>100</td>\n",
       "      <td>65155.52</td>\n",
       "      <td>426</td>\n",
       "      <td>298.878532</td>\n",
       "      <td>3.021277</td>\n",
       "    </tr>\n",
       "    <tr>\n",
       "      <th>8121</th>\n",
       "      <td>26</td>\n",
       "      <td>10</td>\n",
       "      <td>41857.52</td>\n",
       "      <td>427</td>\n",
       "      <td>4185.752000</td>\n",
       "      <td>47.444444</td>\n",
       "    </tr>\n",
       "    <tr>\n",
       "      <th>8122</th>\n",
       "      <td>1</td>\n",
       "      <td>64</td>\n",
       "      <td>36606.09</td>\n",
       "      <td>182</td>\n",
       "      <td>197.870757</td>\n",
       "      <td>2.888889</td>\n",
       "    </tr>\n",
       "    <tr>\n",
       "      <th>8123</th>\n",
       "      <td>0</td>\n",
       "      <td>100</td>\n",
       "      <td>100000.00</td>\n",
       "      <td>312</td>\n",
       "      <td>59.278602</td>\n",
       "      <td>1.000000</td>\n",
       "    </tr>\n",
       "    <tr>\n",
       "      <th>8124</th>\n",
       "      <td>0</td>\n",
       "      <td>100</td>\n",
       "      <td>100000.00</td>\n",
       "      <td>387</td>\n",
       "      <td>81.407068</td>\n",
       "      <td>1.362676</td>\n",
       "    </tr>\n",
       "  </tbody>\n",
       "</table>\n",
       "<p>8125 rows × 6 columns</p>\n",
       "</div>"
      ],
      "text/plain": [
       "      Recency  Frequency   Monetory  date        AvgUP  GapbwOrders\n",
       "0         472          8    2508.78    89   313.597500    12.714286\n",
       "1         200         54    8069.78   105    56.040139     1.981132\n",
       "2          70         14    3715.72   195   265.408571    15.000000\n",
       "3         423         23   13422.72   134   432.990968     6.090909\n",
       "4         168          9     965.51    26    53.639444     3.250000\n",
       "...       ...        ...        ...   ...          ...          ...\n",
       "8120        0        100   65155.52   426   298.878532     3.021277\n",
       "8121       26         10   41857.52   427  4185.752000    47.444444\n",
       "8122        1         64   36606.09   182   197.870757     2.888889\n",
       "8123        0        100  100000.00   312    59.278602     1.000000\n",
       "8124        0        100  100000.00   387    81.407068     1.362676\n",
       "\n",
       "[8125 rows x 6 columns]"
      ]
     },
     "execution_count": 465,
     "metadata": {},
     "output_type": "execute_result"
    }
   ],
   "source": [
    "X = df_final.drop(columns = ['churn','Cluster'])\n",
    "y = df_final['churn'].values\n",
    "X"
   ]
  },
  {
   "cell_type": "markdown",
   "id": "c7a2a563",
   "metadata": {},
   "source": [
    "Spliting dataset with 60%-40% of train and test split"
   ]
  },
  {
   "cell_type": "code",
   "execution_count": 488,
   "id": "86ba2bb5",
   "metadata": {},
   "outputs": [],
   "source": [
    "X_train, X_test, y_train, y_test = train_test_split(X,y,test_size = 0.40, random_state = 40, stratify=y)"
   ]
  },
  {
   "cell_type": "code",
   "execution_count": 489,
   "id": "ee51c0c8",
   "metadata": {},
   "outputs": [
    {
     "name": "stdout",
     "output_type": "stream",
     "text": [
      "Logistic Regression accuracy is : 0.9667692307692307\n"
     ]
    },
    {
     "name": "stderr",
     "output_type": "stream",
     "text": [
      "C:\\Users\\apoor\\anaconda3\\lib\\site-packages\\sklearn\\linear_model\\_logistic.py:814: ConvergenceWarning: lbfgs failed to converge (status=1):\n",
      "STOP: TOTAL NO. of ITERATIONS REACHED LIMIT.\n",
      "\n",
      "Increase the number of iterations (max_iter) or scale the data as shown in:\n",
      "    https://scikit-learn.org/stable/modules/preprocessing.html\n",
      "Please also refer to the documentation for alternative solver options:\n",
      "    https://scikit-learn.org/stable/modules/linear_model.html#logistic-regression\n",
      "  n_iter_i = _check_optimize_result(\n"
     ]
    }
   ],
   "source": [
    "lr_model = LogisticRegression()\n",
    "lr_model.fit(X_train,y_train)\n",
    "accuracy_lr = lr_model.score(X_test,y_test)\n",
    "print(\"Logistic Regression accuracy is :\",accuracy_lr)"
   ]
  }
 ],
 "metadata": {
  "kernelspec": {
   "display_name": "Python 3 (ipykernel)",
   "language": "python",
   "name": "python3"
  },
  "language_info": {
   "codemirror_mode": {
    "name": "ipython",
    "version": 3
   },
   "file_extension": ".py",
   "mimetype": "text/x-python",
   "name": "python",
   "nbconvert_exporter": "python",
   "pygments_lexer": "ipython3",
   "version": "3.8.12"
  }
 },
 "nbformat": 4,
 "nbformat_minor": 5
}
